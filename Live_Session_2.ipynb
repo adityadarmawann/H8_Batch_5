{
 "cells": [
  {
   "cell_type": "markdown",
   "id": "6cfc36da",
   "metadata": {},
   "source": [
    "### "
   ]
  },
  {
   "cell_type": "code",
   "execution_count": 1,
   "id": "bb68b522",
   "metadata": {},
   "outputs": [
    {
     "name": "stdout",
     "output_type": "stream",
     "text": [
      "right!\n",
      "benar\n"
     ]
    }
   ],
   "source": [
    "a = 1\n",
    "b = 7\n",
    "\n",
    "if a < b:\n",
    "    print('right!')\n",
    "\n",
    "if b < a:\n",
    "    print('right!')\n",
    "\n",
    "\n",
    "if b:\n",
    "    print('benar')"
   ]
  },
  {
   "cell_type": "code",
   "execution_count": 7,
   "id": "590722e7",
   "metadata": {},
   "outputs": [
    {
     "name": "stdout",
     "output_type": "stream",
     "text": [
      "itu namaku\n",
      "expression true\n",
      "alright!\n",
      "cukup.\n"
     ]
    }
   ],
   "source": [
    "if \"dar\" in ['dar', 'ma', 'wan']:\n",
    "    print('itu namaku')\n",
    "    print('expression true')\n",
    "    \n",
    "print('alright!')\n",
    "print('cukup.')"
   ]
  },
  {
   "cell_type": "code",
   "execution_count": 9,
   "id": "9c80d79b",
   "metadata": {},
   "outputs": [
    {
     "name": "stdout",
     "output_type": "stream",
     "text": [
      "condition true\n",
      "condition 1\n",
      "try between code\n",
      "end of condition\n"
     ]
    }
   ],
   "source": [
    "if \"adi\" in ['foo', 'too', 'adi']:\n",
    "    print('condition true')\n",
    "    if 7 < 19:\n",
    "        print(\"condition 1\")\n",
    "    print('try between code')\n",
    "    \n",
    "    if 20 < 8:\n",
    "        print('condition 2')\n",
    "print('end of condition')"
   ]
  },
  {
   "cell_type": "code",
   "execution_count": 10,
   "id": "e6465ea0",
   "metadata": {},
   "outputs": [
    {
     "name": "stdout",
     "output_type": "stream",
     "text": [
      "angka kecil\n",
      "small\n",
      "is that true?\n"
     ]
    }
   ],
   "source": [
    "a = 13\n",
    "\n",
    "if a < 20:\n",
    "    print('angka kecil')\n",
    "    print('small')\n",
    "else:\n",
    "    print('else condition')\n",
    "    \n",
    "print('is that true?')"
   ]
  },
  {
   "cell_type": "code",
   "execution_count": 15,
   "id": "e6788fae",
   "metadata": {},
   "outputs": [
    {
     "name": "stdout",
     "output_type": "stream",
     "text": [
      "yaa beli pulpen\n"
     ]
    }
   ],
   "source": [
    "pricePen = 5000\n",
    "eraser = 3000\n",
    "money = 5000\n",
    "\n",
    "if money >= pricePen:\n",
    "    print('yaa beli pulpen')\n",
    "elif money >= eraser:\n",
    "    print('yaa bisa beli eraser')\n",
    "else:\n",
    "    print('ga cukup uangnya')"
   ]
  },
  {
   "cell_type": "code",
   "execution_count": 14,
   "id": "de946dad",
   "metadata": {},
   "outputs": [
    {
     "name": "stdout",
     "output_type": "stream",
     "text": [
      "yaa bisa beli pulpen\n",
      "bisa beli eraser juga\n"
     ]
    }
   ],
   "source": [
    "pricePen = 5000\n",
    "eraser = 3000\n",
    "money = 5000\n",
    "\n",
    "if money >= pricePen:\n",
    "    print('yaa bisa beli pulpen')\n",
    "if money >= eraser:\n",
    "    print('bisa beli eraser juga')\n",
    "else:\n",
    "    print('ga cukup uangnya')"
   ]
  },
  {
   "cell_type": "code",
   "execution_count": 16,
   "id": "baa14f62",
   "metadata": {},
   "outputs": [
    {
     "name": "stdout",
     "output_type": "stream",
     "text": [
      "ga cukup uangnya\n"
     ]
    }
   ],
   "source": [
    "pricePen = 5000\n",
    "eraser = 3000\n",
    "money = 2000\n",
    "\n",
    "if money >= pricePen:\n",
    "    print('yaa beli pulpen')\n",
    "elif money >= eraser:\n",
    "    print('yaa bisa beli eraser')\n",
    "else:\n",
    "    print('ga cukup uangnya')"
   ]
  },
  {
   "cell_type": "code",
   "execution_count": 2,
   "id": "8ea2e74b",
   "metadata": {},
   "outputs": [
    {
     "name": "stdout",
     "output_type": "stream",
     "text": [
      "baa\n"
     ]
    }
   ],
   "source": [
    "if True:\n",
    "    print('baa')"
   ]
  },
  {
   "cell_type": "code",
   "execution_count": 17,
   "id": "368f5ba4",
   "metadata": {},
   "outputs": [
    {
     "name": "stdout",
     "output_type": "stream",
     "text": [
      "let's go to the hill\n"
     ]
    }
   ],
   "source": [
    "sunny = True\n",
    "print(\"let's go to the\", \"hill\" if sunny else \"plaza\")"
   ]
  },
  {
   "cell_type": "markdown",
   "id": "b4388139",
   "metadata": {},
   "source": [
    "# \"While\" Loops"
   ]
  },
  {
   "cell_type": "code",
   "execution_count": 23,
   "id": "3da0fe86",
   "metadata": {},
   "outputs": [
    {
     "name": "stdout",
     "output_type": "stream",
     "text": [
      "7\n",
      "6\n",
      "5\n",
      "4\n",
      "3\n",
      "2\n",
      "1\n",
      "0\n"
     ]
    }
   ],
   "source": [
    "a = 8\n",
    "while a > 0:\n",
    "    a -= 1\n",
    "    print(a)"
   ]
  },
  {
   "cell_type": "code",
   "execution_count": 24,
   "id": "68a498bd",
   "metadata": {},
   "outputs": [
    {
     "name": "stdout",
     "output_type": "stream",
     "text": [
      "9\n",
      "10\n",
      "11\n",
      "12\n",
      "13\n",
      "14\n",
      "15\n",
      "16\n",
      "17\n",
      "18\n",
      "19\n",
      "20\n"
     ]
    }
   ],
   "source": [
    "a = 8\n",
    "while a < 20:\n",
    "    a += 1\n",
    "    print(a)"
   ]
  },
  {
   "cell_type": "markdown",
   "id": "9d554d4e",
   "metadata": {},
   "source": [
    "# Python Breaks"
   ]
  },
  {
   "cell_type": "code",
   "execution_count": 28,
   "id": "5400f373",
   "metadata": {},
   "outputs": [
    {
     "name": "stdout",
     "output_type": "stream",
     "text": [
      "2\n",
      "1\n",
      "loop ended\n"
     ]
    }
   ],
   "source": [
    "b = 3\n",
    "while b > -3:\n",
    "    b -= 1\n",
    "    if b == 0:\n",
    "        break\n",
    "    print(b)\n",
    "print('loop ended')"
   ]
  },
  {
   "cell_type": "markdown",
   "id": "ca0b16fd",
   "metadata": {},
   "source": [
    "# Python Continue"
   ]
  },
  {
   "cell_type": "code",
   "execution_count": 27,
   "id": "17ba5627",
   "metadata": {},
   "outputs": [
    {
     "name": "stdout",
     "output_type": "stream",
     "text": [
      "2\n",
      "1\n",
      "-1\n",
      "-2\n",
      "-3\n",
      "loop ended\n"
     ]
    }
   ],
   "source": [
    "b = 3\n",
    "while b > -3:\n",
    "    b -= 1\n",
    "    if b == 0:\n",
    "        continue\n",
    "    print(b)\n",
    "print('loop ended')"
   ]
  },
  {
   "cell_type": "markdown",
   "id": "821dec73",
   "metadata": {},
   "source": [
    "# Else Clause"
   ]
  },
  {
   "cell_type": "code",
   "execution_count": 30,
   "id": "823ae797",
   "metadata": {},
   "outputs": [
    {
     "name": "stdout",
     "output_type": "stream",
     "text": [
      "6\n",
      "5\n",
      "4\n",
      "3\n",
      "loop ended\n"
     ]
    }
   ],
   "source": [
    "c = 7\n",
    "while c > 3:\n",
    "    c -= 1\n",
    "    print(c)\n",
    "else:\n",
    "    print('loop ended')"
   ]
  },
  {
   "cell_type": "code",
   "execution_count": 31,
   "id": "32fa3e5f",
   "metadata": {},
   "outputs": [
    {
     "name": "stdout",
     "output_type": "stream",
     "text": [
      "6\n",
      "5\n",
      "4\n"
     ]
    }
   ],
   "source": [
    "c = 7\n",
    "while c > 3:\n",
    "    c -= 1\n",
    "    print(c)\n",
    "    if c == 4:\n",
    "        break\n",
    "else:\n",
    "    print('loop ended')"
   ]
  },
  {
   "cell_type": "code",
   "execution_count": 33,
   "id": "39584f0c",
   "metadata": {},
   "outputs": [
    {
     "name": "stdout",
     "output_type": "stream",
     "text": [
      "6\n",
      "5\n",
      "4\n",
      "3\n",
      "loop ended\n"
     ]
    }
   ],
   "source": [
    "c = 7\n",
    "while c > 3:\n",
    "    c -= 1\n",
    "    print(c)\n",
    "    if c == 4:\n",
    "        continue\n",
    "else:\n",
    "    print('loop ended')"
   ]
  },
  {
   "cell_type": "markdown",
   "id": "55cc7f55",
   "metadata": {},
   "source": [
    "# Nested While Loops"
   ]
  },
  {
   "cell_type": "code",
   "execution_count": 34,
   "id": "58d93712",
   "metadata": {},
   "outputs": [
    {
     "name": "stdout",
     "output_type": "stream",
     "text": [
      "son\n"
     ]
    }
   ],
   "source": [
    "age = 13\n",
    "gender = 'M'\n",
    "\n",
    "if age < 16:\n",
    "    if gender == 'M':\n",
    "        print('son')\n",
    "    else:\n",
    "        print('doughter')\n",
    "elif age >= 16 and age < 60:\n",
    "    if gender == 'M':\n",
    "        print('father')\n",
    "    else:\n",
    "        print('mother')\n",
    "else:\n",
    "    if gender == 'M':\n",
    "        print ('grandfather')\n",
    "    else:\n",
    "        print('grandmother')"
   ]
  },
  {
   "cell_type": "code",
   "execution_count": 35,
   "id": "6ee37855",
   "metadata": {},
   "outputs": [
    {
     "name": "stdout",
     "output_type": "stream",
     "text": [
      "mother\n"
     ]
    }
   ],
   "source": [
    "age = 45\n",
    "gender = 'F'\n",
    "\n",
    "if age < 16:\n",
    "    if gender == 'M':\n",
    "        print('son')\n",
    "    else:\n",
    "        print('doughter')\n",
    "elif age >= 16 and age < 60:\n",
    "    if gender == 'M':\n",
    "        print('father')\n",
    "    else:\n",
    "        print('mother')\n",
    "else:\n",
    "    if gender == 'M':\n",
    "        print ('grandfather')\n",
    "    else:\n",
    "        print('grandmother')"
   ]
  },
  {
   "cell_type": "code",
   "execution_count": 36,
   "id": "fc6626f4",
   "metadata": {},
   "outputs": [
    {
     "name": "stdout",
     "output_type": "stream",
     "text": [
      "aku\n",
      "> ki\n",
      "> ta\n",
      "kamu\n",
      "> ki\n",
      "> ta\n"
     ]
    }
   ],
   "source": [
    "b = ['aku', 'kamu']\n",
    "\n",
    "while len(b):\n",
    "    print(b.pop(0))\n",
    "\n",
    "    v = ['ki', 'ta']\n",
    "\n",
    "    while len(v):\n",
    "        print('>',v.pop(0))"
   ]
  },
  {
   "cell_type": "markdown",
   "id": "eb7c24ee",
   "metadata": {},
   "source": [
    "# \"For\" Loop"
   ]
  },
  {
   "cell_type": "code",
   "execution_count": 37,
   "id": "e589d89a",
   "metadata": {},
   "outputs": [
    {
     "name": "stdout",
     "output_type": "stream",
     "text": [
      "adi\n",
      "tya\n",
      "darma\n"
     ]
    }
   ],
   "source": [
    "x = ['adi', 'tya', 'darma']\n",
    "for i in x:\n",
    "    print(i)"
   ]
  },
  {
   "cell_type": "code",
   "execution_count": 40,
   "id": "9312e9f6",
   "metadata": {},
   "outputs": [
    {
     "name": "stdout",
     "output_type": "stream",
     "text": [
      "adi\n",
      "tya\n",
      "darma\n"
     ]
    }
   ],
   "source": [
    "y = {'adi':1, 'tya':2, 'darma':3} #kenapa kurung biasa dengan kurawal itu berbeda\n",
    "for c in y:\n",
    "    print(c)"
   ]
  },
  {
   "cell_type": "code",
   "execution_count": 46,
   "id": "a43ba2fa",
   "metadata": {},
   "outputs": [
    {
     "name": "stdout",
     "output_type": "stream",
     "text": [
      "1\n",
      "2\n",
      "3\n"
     ]
    }
   ],
   "source": [
    "for c in y:\n",
    "    print(y[c])"
   ]
  },
  {
   "cell_type": "code",
   "execution_count": 42,
   "id": "00b92e01",
   "metadata": {},
   "outputs": [
    {
     "name": "stdout",
     "output_type": "stream",
     "text": [
      "1\n",
      "2\n",
      "3\n"
     ]
    }
   ],
   "source": [
    "for c in y.values():\n",
    "    print(c)\n"
   ]
  },
  {
   "cell_type": "code",
   "execution_count": 47,
   "id": "0418cede",
   "metadata": {},
   "outputs": [
    {
     "name": "stdout",
     "output_type": "stream",
     "text": [
      "adi : 1\n",
      "tya : 2\n",
      "darma : 3\n"
     ]
    }
   ],
   "source": [
    "for c, v in y.items():\n",
    "    print(c, \":\", v)"
   ]
  },
  {
   "cell_type": "markdown",
   "id": "a06b18d3",
   "metadata": {},
   "source": [
    "# Range Fuction"
   ]
  },
  {
   "cell_type": "code",
   "execution_count": 49,
   "id": "82c097da",
   "metadata": {},
   "outputs": [
    {
     "name": "stdout",
     "output_type": "stream",
     "text": [
      "1\n",
      "3\n",
      "5\n",
      "7\n",
      "9\n"
     ]
    }
   ],
   "source": [
    "for x in (1,3,5,7,9):\n",
    "    print(x)"
   ]
  },
  {
   "cell_type": "code",
   "execution_count": 50,
   "id": "fa81f65f",
   "metadata": {},
   "outputs": [],
   "source": [
    "h = range(5)"
   ]
  },
  {
   "cell_type": "code",
   "execution_count": 51,
   "id": "4e51e59f",
   "metadata": {},
   "outputs": [
    {
     "name": "stdout",
     "output_type": "stream",
     "text": [
      "range(0, 5)\n"
     ]
    }
   ],
   "source": [
    "print(h)"
   ]
  },
  {
   "cell_type": "code",
   "execution_count": 53,
   "id": "1b259a09",
   "metadata": {},
   "outputs": [
    {
     "name": "stdout",
     "output_type": "stream",
     "text": [
      "0\n",
      "1\n",
      "2\n",
      "3\n",
      "4\n"
     ]
    }
   ],
   "source": [
    "for x in h:\n",
    "    print(x)"
   ]
  },
  {
   "cell_type": "markdown",
   "id": "9fe1a7a7",
   "metadata": {},
   "source": [
    "# Altering \"For\" Loops"
   ]
  },
  {
   "cell_type": "code",
   "execution_count": null,
   "id": "9ef312f8",
   "metadata": {},
   "outputs": [],
   "source": []
  }
 ],
 "metadata": {
  "kernelspec": {
   "display_name": "Python 3 (ipykernel)",
   "language": "python",
   "name": "python3"
  },
  "language_info": {
   "codemirror_mode": {
    "name": "ipython",
    "version": 3
   },
   "file_extension": ".py",
   "mimetype": "text/x-python",
   "name": "python",
   "nbconvert_exporter": "python",
   "pygments_lexer": "ipython3",
   "version": "3.11.4"
  }
 },
 "nbformat": 4,
 "nbformat_minor": 5
}
