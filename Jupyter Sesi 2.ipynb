{
 "cells": [
  {
   "cell_type": "code",
   "execution_count": 3,
   "id": "dc2d38d9",
   "metadata": {},
   "outputs": [
    {
     "name": "stdout",
     "output_type": "stream",
     "text": [
      "right!\n",
      "benar\n"
     ]
    }
   ],
   "source": [
    "a = 1\n",
    "b = 7\n",
    "\n",
    "if a < b:\n",
    "    print('right!')\n",
    "    \n",
    "if b < a:\n",
    "    print('right!')\n",
    "    \n",
    "if b:\n",
    "    print('benar')"
   ]
  },
  {
   "cell_type": "markdown",
   "id": "2ee8022f",
   "metadata": {},
   "source": [
    "# Else If Clauses"
   ]
  },
  {
   "cell_type": "code",
   "execution_count": 5,
   "id": "7771d712",
   "metadata": {},
   "outputs": [
    {
     "name": "stdout",
     "output_type": "stream",
     "text": [
      "belum bisa bayar\n"
     ]
    }
   ],
   "source": [
    "uang = 20\n",
    "ukt = 1000\n",
    "\n",
    "if uang >= ukt:\n",
    "    print('bisa bayar')\n",
    "else:\n",
    "    print('belum bisa bayar')"
   ]
  },
  {
   "cell_type": "code",
   "execution_count": 7,
   "id": "aa7b1204",
   "metadata": {},
   "outputs": [
    {
     "name": "stdout",
     "output_type": "stream",
     "text": [
      "bisa bayar\n"
     ]
    }
   ],
   "source": [
    "uang = 2000\n",
    "ukt = 1000\n",
    "\n",
    "if uang >= ukt:\n",
    "    print('bisa bayar')\n",
    "else:\n",
    "    print('belum bisa bayar')"
   ]
  },
  {
   "cell_type": "code",
   "execution_count": 11,
   "id": "a7b6aeb2",
   "metadata": {},
   "outputs": [
    {
     "name": "stdout",
     "output_type": "stream",
     "text": [
      "bisa bayar\n"
     ]
    }
   ],
   "source": [
    "uang = 1000\n",
    "ukt = 1000\n",
    "\n",
    "if uang >= ukt:\n",
    "    print('bisa bayar')\n",
    "    \n",
    "elif uang < ukt:\n",
    "    print('tak bisa bayar')\n"
   ]
  },
  {
   "cell_type": "code",
   "execution_count": null,
   "id": "7dcffeab",
   "metadata": {},
   "outputs": [],
   "source": []
  }
 ],
 "metadata": {
  "kernelspec": {
   "display_name": "Python 3 (ipykernel)",
   "language": "python",
   "name": "python3"
  },
  "language_info": {
   "codemirror_mode": {
    "name": "ipython",
    "version": 3
   },
   "file_extension": ".py",
   "mimetype": "text/x-python",
   "name": "python",
   "nbconvert_exporter": "python",
   "pygments_lexer": "ipython3",
   "version": "3.11.4"
  }
 },
 "nbformat": 4,
 "nbformat_minor": 5
}
