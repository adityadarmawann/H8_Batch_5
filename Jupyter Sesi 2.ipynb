{
 "cells": [
  {
   "cell_type": "code",
   "execution_count": 3,
   "id": "dc2d38d9",
   "metadata": {},
   "outputs": [
    {
     "name": "stdout",
     "output_type": "stream",
     "text": [
      "right!\n",
      "benar\n"
     ]
    }
   ],
   "source": [
    "a = 1\n",
    "b = 7\n",
    "\n",
    "if a < b:\n",
    "    print('right!')\n",
    "    \n",
    "if b < a:\n",
    "    print('right!')\n",
    "    \n",
    "if b:\n",
    "    print('benar')"
   ]
  },
  {
   "cell_type": "markdown",
   "id": "2ee8022f",
   "metadata": {},
   "source": [
    "# Else If Clauses"
   ]
  },
  {
   "cell_type": "code",
   "execution_count": 5,
   "id": "7771d712",
   "metadata": {},
   "outputs": [
    {
     "name": "stdout",
     "output_type": "stream",
     "text": [
      "belum bisa bayar\n"
     ]
    }
   ],
   "source": [
    "uang = 20\n",
    "ukt = 1000\n",
    "\n",
    "if uang >= ukt:\n",
    "    print('bisa bayar')\n",
    "else:\n",
    "    print('belum bisa bayar')"
   ]
  },
  {
   "cell_type": "code",
   "execution_count": 7,
   "id": "aa7b1204",
   "metadata": {},
   "outputs": [
    {
     "name": "stdout",
     "output_type": "stream",
     "text": [
      "bisa bayar\n"
     ]
    }
   ],
   "source": [
    "uang = 2000\n",
    "ukt = 1000\n",
    "\n",
    "if uang >= ukt:\n",
    "    print('bisa bayar')\n",
    "else:\n",
    "    print('belum bisa bayar')"
   ]
  },
  {
   "cell_type": "code",
   "execution_count": 11,
   "id": "a7b6aeb2",
   "metadata": {},
   "outputs": [
    {
     "name": "stdout",
     "output_type": "stream",
     "text": [
      "bisa bayar\n"
     ]
    }
   ],
   "source": [
    "uang = 1000\n",
    "ukt = 1000\n",
    "\n",
    "if uang >= ukt:\n",
    "    print('bisa bayar')\n",
    "    \n",
    "elif uang < ukt:\n",
    "    print('tak bisa bayar')\n"
   ]
  },
  {
   "cell_type": "markdown",
   "id": "d9e8d382",
   "metadata": {},
   "source": [
    "# One-Line if Statements "
   ]
  },
  {
   "cell_type": "code",
   "execution_count": 2,
   "id": "35ee39aa",
   "metadata": {},
   "outputs": [
    {
     "name": "stdout",
     "output_type": "stream",
     "text": [
      "1\n",
      "2\n",
      "3\n"
     ]
    }
   ],
   "source": [
    "if 'a' in 'aditya' : print(1); print(2); print('3')"
   ]
  },
  {
   "cell_type": "code",
   "execution_count": 3,
   "id": "08a3aafd",
   "metadata": {},
   "outputs": [
    {
     "name": "stdout",
     "output_type": "stream",
     "text": [
      "yes\n",
      "right\n",
      "beb\n"
     ]
    }
   ],
   "source": [
    "a = 8\n",
    "\n",
    "if a >= 7: print('yes'); print('right'); print('beb')\n",
    "elif x == 2: print('kicil'); print('bingits')"
   ]
  },
  {
   "cell_type": "markdown",
   "id": "7e050b09",
   "metadata": {},
   "source": [
    "# Conditional Expression Ternary Operator"
   ]
  },
  {
   "cell_type": "code",
   "execution_count": 6,
   "id": "9893bc9a",
   "metadata": {},
   "outputs": [
    {
     "name": "stdout",
     "output_type": "stream",
     "text": [
      "let's go to the hill\n"
     ]
    }
   ],
   "source": [
    "sunny = True\n",
    "print(\"let's go to the\", \"hill\" if sunny else \"plaza\")"
   ]
  },
  {
   "cell_type": "code",
   "execution_count": 7,
   "id": "babca872",
   "metadata": {},
   "outputs": [
    {
     "name": "stdout",
     "output_type": "stream",
     "text": [
      "let's go to the plaza\n"
     ]
    }
   ],
   "source": [
    "sunny = False\n",
    "print(\"let's go to the\", \"hill\" if sunny else \"plaza\")"
   ]
  },
  {
   "cell_type": "code",
   "execution_count": 9,
   "id": "29bb456b",
   "metadata": {},
   "outputs": [
    {
     "data": {
      "text/plain": [
       "'adult'"
      ]
     },
     "execution_count": 9,
     "metadata": {},
     "output_type": "execute_result"
    }
   ],
   "source": [
    "age = 20\n",
    "x = 'teen' if age <19 else 'adult'\n",
    "x"
   ]
  },
  {
   "cell_type": "markdown",
   "id": "5d68b167",
   "metadata": {},
   "source": [
    "# The Python Pass Statement"
   ]
  },
  {
   "cell_type": "code",
   "execution_count": 11,
   "id": "3a100e42",
   "metadata": {},
   "outputs": [
    {
     "ename": "IndentationError",
     "evalue": "expected an indented block after 'if' statement on line 1 (3474547535.py, line 2)",
     "output_type": "error",
     "traceback": [
      "\u001b[0;36m  Cell \u001b[0;32mIn[11], line 2\u001b[0;36m\u001b[0m\n\u001b[0;31m    print('foo')\u001b[0m\n\u001b[0m    ^\u001b[0m\n\u001b[0;31mIndentationError\u001b[0m\u001b[0;31m:\u001b[0m expected an indented block after 'if' statement on line 1\n"
     ]
    }
   ],
   "source": [
    "if True:\n",
    "print('foo')"
   ]
  },
  {
   "cell_type": "code",
   "execution_count": 13,
   "id": "97ee71a0",
   "metadata": {},
   "outputs": [
    {
     "name": "stdout",
     "output_type": "stream",
     "text": [
      "foo\n"
     ]
    }
   ],
   "source": [
    "if True:\n",
    "    pass\n",
    "\n",
    "print('foo')"
   ]
  },
  {
   "cell_type": "markdown",
   "id": "218e7f9b",
   "metadata": {},
   "source": [
    "# Python While Loops"
   ]
  },
  {
   "cell_type": "code",
   "execution_count": 15,
   "id": "7fb81b94",
   "metadata": {},
   "outputs": [
    {
     "name": "stdout",
     "output_type": "stream",
     "text": [
      "8\n",
      "7\n",
      "6\n",
      "5\n"
     ]
    }
   ],
   "source": [
    "n = 9\n",
    "while n > 5:\n",
    "    n -= 1\n",
    "    print(n)"
   ]
  },
  {
   "cell_type": "code",
   "execution_count": 6,
   "id": "ecb90d7c",
   "metadata": {},
   "outputs": [
    {
     "name": "stdout",
     "output_type": "stream",
     "text": [
      "0\n",
      "1\n",
      "2\n",
      "3\n",
      "4\n",
      "5\n",
      "6\n",
      "7\n",
      "8\n"
     ]
    }
   ],
   "source": [
    "n = 0\n",
    "while n < 9:\n",
    "    print(n)\n",
    "    n += 1"
   ]
  },
  {
   "cell_type": "code",
   "execution_count": null,
   "id": "3aeade4c",
   "metadata": {},
   "outputs": [],
   "source": []
  }
 ],
 "metadata": {
  "kernelspec": {
   "display_name": "Python 3 (ipykernel)",
   "language": "python",
   "name": "python3"
  },
  "language_info": {
   "codemirror_mode": {
    "name": "ipython",
    "version": 3
   },
   "file_extension": ".py",
   "mimetype": "text/x-python",
   "name": "python",
   "nbconvert_exporter": "python",
   "pygments_lexer": "ipython3",
   "version": "3.11.4"
  }
 },
 "nbformat": 4,
 "nbformat_minor": 5
}
