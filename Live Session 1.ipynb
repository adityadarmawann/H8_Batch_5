{
 "cells": [
  {
   "cell_type": "code",
   "execution_count": 1,
   "id": "acc517d2",
   "metadata": {},
   "outputs": [
    {
     "name": "stdout",
     "output_type": "stream",
     "text": [
      "Hallo guys!\n"
     ]
    }
   ],
   "source": [
    "print(\"Hallo guys!\")"
   ]
  },
  {
   "cell_type": "markdown",
   "id": "f4211733",
   "metadata": {},
   "source": [
    "# Integer "
   ]
  },
  {
   "cell_type": "code",
   "execution_count": 2,
   "id": "a48b49c0",
   "metadata": {},
   "outputs": [
    {
     "name": "stdout",
     "output_type": "stream",
     "text": [
      "87966\n"
     ]
    }
   ],
   "source": [
    "print(87965+1)"
   ]
  },
  {
   "cell_type": "code",
   "execution_count": 3,
   "id": "9050cbf6",
   "metadata": {},
   "outputs": [
    {
     "name": "stdout",
     "output_type": "stream",
     "text": [
      "75\n",
      "<class 'int'>\n"
     ]
    }
   ],
   "source": [
    "print(75)\n",
    "print(type(75))"
   ]
  },
  {
   "cell_type": "code",
   "execution_count": 7,
   "id": "fa6bdbd8",
   "metadata": {},
   "outputs": [
    {
     "data": {
      "text/plain": [
       "9"
      ]
     },
     "execution_count": 7,
     "metadata": {},
     "output_type": "execute_result"
    }
   ],
   "source": [
    "9"
   ]
  },
  {
   "cell_type": "markdown",
   "id": "06ed3926",
   "metadata": {},
   "source": [
    "# Floating Point Numbers"
   ]
  },
  {
   "cell_type": "code",
   "execution_count": 8,
   "id": "feee0571",
   "metadata": {},
   "outputs": [
    {
     "name": "stdout",
     "output_type": "stream",
     "text": [
      "8.9\n"
     ]
    }
   ],
   "source": [
    "print(8.9)"
   ]
  },
  {
   "cell_type": "code",
   "execution_count": 9,
   "id": "ccf54064",
   "metadata": {},
   "outputs": [
    {
     "name": "stdout",
     "output_type": "stream",
     "text": [
      "<class 'float'>\n"
     ]
    }
   ],
   "source": [
    "print(type(8.9))"
   ]
  },
  {
   "cell_type": "code",
   "execution_count": 10,
   "id": "a15472d9",
   "metadata": {},
   "outputs": [
    {
     "name": "stdout",
     "output_type": "stream",
     "text": [
      "4.0\n"
     ]
    }
   ],
   "source": [
    "print(4.)"
   ]
  },
  {
   "cell_type": "code",
   "execution_count": 11,
   "id": "5e773705",
   "metadata": {},
   "outputs": [
    {
     "name": "stdout",
     "output_type": "stream",
     "text": [
      "90000000.0\n"
     ]
    }
   ],
   "source": [
    "print(.9e8)"
   ]
  },
  {
   "cell_type": "code",
   "execution_count": 12,
   "id": "e2937ad5",
   "metadata": {},
   "outputs": [
    {
     "name": "stdout",
     "output_type": "stream",
     "text": [
      "0.023\n"
     ]
    }
   ],
   "source": [
    "print(2.3e-2)"
   ]
  },
  {
   "cell_type": "markdown",
   "id": "fc22aa3c",
   "metadata": {},
   "source": [
    "# Strings"
   ]
  },
  {
   "cell_type": "code",
   "execution_count": 13,
   "id": "8ada36fd",
   "metadata": {},
   "outputs": [
    {
     "name": "stdout",
     "output_type": "stream",
     "text": [
      "Hallo Aditya!\n"
     ]
    }
   ],
   "source": [
    "print(\"Hallo Aditya!\")"
   ]
  },
  {
   "cell_type": "code",
   "execution_count": 15,
   "id": "fefa2858",
   "metadata": {},
   "outputs": [
    {
     "name": "stdout",
     "output_type": "stream",
     "text": [
      "<class 'str'>\n"
     ]
    }
   ],
   "source": [
    "print(type(\"Hallo Aditya!\"))"
   ]
  },
  {
   "cell_type": "markdown",
   "id": "1fb8a35b",
   "metadata": {},
   "source": [
    "## Boolean Type, Boolean Context, and \"Truthniess\""
   ]
  },
  {
   "cell_type": "code",
   "execution_count": 16,
   "id": "118c39d1",
   "metadata": {},
   "outputs": [
    {
     "name": "stdout",
     "output_type": "stream",
     "text": [
      "<class 'bool'>\n"
     ]
    }
   ],
   "source": [
    "print(type(False))"
   ]
  },
  {
   "cell_type": "code",
   "execution_count": 17,
   "id": "c2b99399",
   "metadata": {},
   "outputs": [
    {
     "name": "stdout",
     "output_type": "stream",
     "text": [
      "<class 'bool'>\n"
     ]
    }
   ],
   "source": [
    "print(type(True))"
   ]
  },
  {
   "cell_type": "markdown",
   "id": "51f7011e",
   "metadata": {},
   "source": [
    "# Variable Assignment"
   ]
  },
  {
   "cell_type": "code",
   "execution_count": 18,
   "id": "5105a9e5",
   "metadata": {},
   "outputs": [],
   "source": [
    "a = 20"
   ]
  },
  {
   "cell_type": "code",
   "execution_count": 19,
   "id": "ad87ff1d",
   "metadata": {},
   "outputs": [
    {
     "name": "stdout",
     "output_type": "stream",
     "text": [
      "20\n"
     ]
    }
   ],
   "source": [
    "print(a)"
   ]
  },
  {
   "cell_type": "code",
   "execution_count": 20,
   "id": "0b92daa9",
   "metadata": {},
   "outputs": [
    {
     "data": {
      "text/plain": [
       "20"
      ]
     },
     "execution_count": 20,
     "metadata": {},
     "output_type": "execute_result"
    }
   ],
   "source": [
    "a"
   ]
  },
  {
   "cell_type": "code",
   "execution_count": 21,
   "id": "40fba508",
   "metadata": {},
   "outputs": [],
   "source": [
    "a = 800"
   ]
  },
  {
   "cell_type": "code",
   "execution_count": 22,
   "id": "841a2db8",
   "metadata": {},
   "outputs": [
    {
     "name": "stdout",
     "output_type": "stream",
     "text": [
      "800\n"
     ]
    },
    {
     "data": {
      "text/plain": [
       "800"
      ]
     },
     "execution_count": 22,
     "metadata": {},
     "output_type": "execute_result"
    }
   ],
   "source": [
    "print(a)\n",
    "\n",
    "a"
   ]
  },
  {
   "cell_type": "code",
   "execution_count": 24,
   "id": "3c2e8bb5",
   "metadata": {
    "scrolled": true
   },
   "outputs": [
    {
     "name": "stdout",
     "output_type": "stream",
     "text": [
      "10 10 10\n"
     ]
    }
   ],
   "source": [
    "x = y = z = 10\n",
    "print(x, y, z)"
   ]
  },
  {
   "cell_type": "markdown",
   "id": "607f4417",
   "metadata": {},
   "source": [
    "# Variable Types"
   ]
  },
  {
   "cell_type": "code",
   "execution_count": 25,
   "id": "d2a3a86d",
   "metadata": {},
   "outputs": [],
   "source": [
    "var = 27"
   ]
  },
  {
   "cell_type": "code",
   "execution_count": 26,
   "id": "78487fa5",
   "metadata": {},
   "outputs": [
    {
     "name": "stdout",
     "output_type": "stream",
     "text": [
      "27\n"
     ]
    }
   ],
   "source": [
    "print(var)"
   ]
  },
  {
   "cell_type": "code",
   "execution_count": 27,
   "id": "dbac52d9",
   "metadata": {},
   "outputs": [],
   "source": [
    "var = \"Now I'm string yeah\""
   ]
  },
  {
   "cell_type": "code",
   "execution_count": 28,
   "id": "f8d37079",
   "metadata": {},
   "outputs": [
    {
     "name": "stdout",
     "output_type": "stream",
     "text": [
      "Now I'm string yeah\n"
     ]
    }
   ],
   "source": [
    "print(var)"
   ]
  },
  {
   "cell_type": "markdown",
   "id": "82c8cee7",
   "metadata": {},
   "source": [
    "# Variable Names"
   ]
  },
  {
   "cell_type": "code",
   "execution_count": 31,
   "id": "550ef4bb",
   "metadata": {},
   "outputs": [
    {
     "name": "stdout",
     "output_type": "stream",
     "text": [
      "aditya 20 False\n"
     ]
    }
   ],
   "source": [
    "name = \"aditya\"\n",
    "age = 20\n",
    "has_pc = False\n",
    "print(name, age, has_pc)"
   ]
  },
  {
   "cell_type": "markdown",
   "id": "c95c18be",
   "metadata": {},
   "source": [
    "# Operator and Expression"
   ]
  },
  {
   "cell_type": "code",
   "execution_count": 34,
   "id": "f5d0079d",
   "metadata": {},
   "outputs": [
    {
     "data": {
      "text/plain": [
       "7"
      ]
     },
     "execution_count": 34,
     "metadata": {},
     "output_type": "execute_result"
    }
   ],
   "source": [
    "a = 2\n",
    "b = 7\n",
    "\n",
    "a + b - 2"
   ]
  },
  {
   "cell_type": "markdown",
   "id": "b58d1740",
   "metadata": {},
   "source": [
    "# Arithmatic Operators"
   ]
  },
  {
   "cell_type": "code",
   "execution_count": 35,
   "id": "99b56144",
   "metadata": {},
   "outputs": [
    {
     "name": "stdout",
     "output_type": "stream",
     "text": [
      "15\n",
      "3\n",
      "54\n",
      "3\n"
     ]
    }
   ],
   "source": [
    "x = 9\n",
    "y = 6\n",
    "\n",
    "print(x+y)\n",
    "print(x - y)\n",
    "print(x*y)\n",
    "print(x % y)"
   ]
  },
  {
   "cell_type": "markdown",
   "id": "18359be2",
   "metadata": {},
   "source": [
    "# Comprission Operator"
   ]
  },
  {
   "cell_type": "code",
   "execution_count": 36,
   "id": "182e9d2e",
   "metadata": {},
   "outputs": [
    {
     "data": {
      "text/plain": [
       "False"
      ]
     },
     "execution_count": 36,
     "metadata": {},
     "output_type": "execute_result"
    }
   ],
   "source": [
    "a == 7\n",
    "b == 6"
   ]
  },
  {
   "cell_type": "code",
   "execution_count": 37,
   "id": "1d475abc",
   "metadata": {},
   "outputs": [
    {
     "name": "stdout",
     "output_type": "stream",
     "text": [
      "False\n"
     ]
    }
   ],
   "source": [
    "print(a==b)"
   ]
  },
  {
   "cell_type": "code",
   "execution_count": 38,
   "id": "b2d32f2e",
   "metadata": {
    "scrolled": true
   },
   "outputs": [
    {
     "name": "stdout",
     "output_type": "stream",
     "text": [
      "True\n"
     ]
    }
   ],
   "source": [
    "print(a != 1)"
   ]
  }
 ],
 "metadata": {
  "kernelspec": {
   "display_name": "Python 3 (ipykernel)",
   "language": "python",
   "name": "python3"
  },
  "language_info": {
   "codemirror_mode": {
    "name": "ipython",
    "version": 3
   },
   "file_extension": ".py",
   "mimetype": "text/x-python",
   "name": "python",
   "nbconvert_exporter": "python",
   "pygments_lexer": "ipython3",
   "version": "3.11.4"
  }
 },
 "nbformat": 4,
 "nbformat_minor": 5
}
