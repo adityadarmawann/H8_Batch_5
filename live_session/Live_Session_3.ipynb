{
 "cells": [
  {
   "cell_type": "markdown",
   "id": "c48f9576",
   "metadata": {},
   "source": [
    "# Defining and Calling Function"
   ]
  },
  {
   "cell_type": "code",
   "execution_count": 2,
   "id": "27c5260c",
   "metadata": {},
   "outputs": [],
   "source": [
    "def rumus(a, t):\n",
    "    \"Function untuk mengitung luas segitiga\"\n",
    "    print(a * t / 2)"
   ]
  },
  {
   "cell_type": "code",
   "execution_count": 3,
   "id": "3e3b7332",
   "metadata": {},
   "outputs": [
    {
     "name": "stdout",
     "output_type": "stream",
     "text": [
      "45.0\n"
     ]
    }
   ],
   "source": [
    "rumus(9, 10)"
   ]
  },
  {
   "cell_type": "code",
   "execution_count": 4,
   "id": "242ecacf",
   "metadata": {},
   "outputs": [],
   "source": [
    "def printme(str):\n",
    "   print(str)\n",
    "   returndef printme( str ):\n",
    "   print(str)\n",
    "   return"
   ]
  },
  {
   "cell_type": "code",
   "execution_count": 7,
   "id": "478fd32a",
   "metadata": {},
   "outputs": [
    {
     "data": {
      "text/plain": [
       "'aku adalah'"
      ]
     },
     "execution_count": 7,
     "metadata": {},
     "output_type": "execute_result"
    }
   ],
   "source": [
    "str(\"aku adalah\")"
   ]
  },
  {
   "cell_type": "code",
   "execution_count": 8,
   "id": "5e3b8d9e",
   "metadata": {},
   "outputs": [],
   "source": [
    "def printme(str):\n",
    "    print(str)\n",
    "    return"
   ]
  },
  {
   "cell_type": "code",
   "execution_count": 9,
   "id": "bee17c71",
   "metadata": {},
   "outputs": [
    {
     "name": "stdout",
     "output_type": "stream",
     "text": [
      "akuakuaku\n"
     ]
    }
   ],
   "source": [
    "printme(\"akuakuaku\")"
   ]
  },
  {
   "cell_type": "code",
   "execution_count": 10,
   "id": "5214e52f",
   "metadata": {},
   "outputs": [
    {
     "name": "stdout",
     "output_type": "stream",
     "text": [
      "I'm first call to user defined function!\n",
      "Again second call to the same function\n"
     ]
    }
   ],
   "source": [
    "def coba( str ):\n",
    "   print(str)\n",
    "   return;\n",
    "\n",
    "# Now you can call printme function\n",
    "coba(\"I'm first call to user defined function!\")\n",
    "coba(\"Again second call to the same function\")"
   ]
  },
  {
   "cell_type": "markdown",
   "id": "c17f12a8",
   "metadata": {},
   "source": [
    "# Pass By Reference"
   ]
  },
  {
   "cell_type": "code",
   "execution_count": 11,
   "id": "fb620c71",
   "metadata": {},
   "outputs": [
    {
     "name": "stdout",
     "output_type": "stream",
     "text": [
      "Values inside the function:  [10, 20, 30, [1, 2, 3, 4]]\n",
      "Values outside the function:  [10, 20, 30, [1, 2, 3, 4]]\n"
     ]
    }
   ],
   "source": [
    "# Function definition is here\n",
    "def changer( ourlist ):\n",
    "   ourlist.append([1,2,3,4]);\n",
    "   print(\"Values inside the function: \", ourlist)\n",
    "   return\n",
    "\n",
    "# Now you can call changeme function\n",
    "ourlist = [10,20,30];\n",
    "changer( ourlist );\n",
    "print(\"Values outside the function: \", ourlist)"
   ]
  },
  {
   "cell_type": "markdown",
   "id": "dee91e2f",
   "metadata": {},
   "source": [
    "# Keywords Arguments "
   ]
  },
  {
   "cell_type": "code",
   "execution_count": 12,
   "id": "5f9603d8",
   "metadata": {},
   "outputs": [
    {
     "name": "stdout",
     "output_type": "stream",
     "text": [
      "Hacktiv8\n"
     ]
    }
   ],
   "source": [
    "#Function definition is here\n",
    "def printme( str ):\n",
    "   print(str)\n",
    "   return;\n",
    "\n",
    "# Now you can call printme function\n",
    "printme(str = \"Hacktiv8\")"
   ]
  },
  {
   "cell_type": "code",
   "execution_count": 13,
   "id": "4a2cf53b",
   "metadata": {},
   "outputs": [],
   "source": [
    "def printinfo( name, age ):\n",
    "   \"This prints a passed info into this function\"\n",
    "   print(\"Name: \", name)\n",
    "   print(\"Age: \", age)\n",
    "   return;"
   ]
  },
  {
   "cell_type": "code",
   "execution_count": 14,
   "id": "000958c8",
   "metadata": {},
   "outputs": [
    {
     "name": "stdout",
     "output_type": "stream",
     "text": [
      "Name:  aditya\n",
      "Age:  18\n"
     ]
    }
   ],
   "source": [
    "printinfo(\"aditya\", 18)"
   ]
  },
  {
   "cell_type": "markdown",
   "id": "b9f92142",
   "metadata": {},
   "source": [
    "# Default Argument"
   ]
  },
  {
   "cell_type": "code",
   "execution_count": 16,
   "id": "cc5225af",
   "metadata": {},
   "outputs": [
    {
     "name": "stdout",
     "output_type": "stream",
     "text": [
      "Name:  hacktiv8\n",
      "Age:  40\n",
      "Name:  dika\n",
      "Age:  16\n"
     ]
    }
   ],
   "source": [
    "# Function definition is here\n",
    "def printinfo( name, age = 16 ):\n",
    "   \"This prints a passed info into this function\"\n",
    "   print(\"Name: \", name)\n",
    "   print(\"Age: \", age)\n",
    "   return;\n",
    "\n",
    "# Now you can call printinfo function\n",
    "printinfo( age=40, name=\"hacktiv8\" )\n",
    "printinfo( name=\"dika\" )"
   ]
  },
  {
   "cell_type": "code",
   "execution_count": null,
   "id": "bd91cc5d",
   "metadata": {},
   "outputs": [],
   "source": []
  }
 ],
 "metadata": {
  "kernelspec": {
   "display_name": "Python 3 (ipykernel)",
   "language": "python",
   "name": "python3"
  },
  "language_info": {
   "codemirror_mode": {
    "name": "ipython",
    "version": 3
   },
   "file_extension": ".py",
   "mimetype": "text/x-python",
   "name": "python",
   "nbconvert_exporter": "python",
   "pygments_lexer": "ipython3",
   "version": "3.11.4"
  }
 },
 "nbformat": 4,
 "nbformat_minor": 5
}
