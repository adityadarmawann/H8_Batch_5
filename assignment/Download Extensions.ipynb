{
 "cells": [
  {
   "cell_type": "code",
   "execution_count": 3,
   "id": "3543b8aa",
   "metadata": {},
   "outputs": [
    {
     "name": "stderr",
     "output_type": "stream",
     "text": [
      "ERROR: Could not find a version that satisfies the requirement jupyter_contrib_nbextension (from versions: none)\n",
      "ERROR: No matching distribution found for jupyter_contrib_nbextension\n"
     ]
    }
   ],
   "source": [
    "!pip3 install jupyter_contrib_nbextension && jupyter contrib nb extensions install --user"
   ]
  },
  {
   "cell_type": "code",
   "execution_count": null,
   "id": "80ad4e6d-691a-47e6-8a72-86164625dbef",
   "metadata": {},
   "outputs": [],
   "source": []
  }
 ],
 "metadata": {
  "kernelspec": {
   "display_name": "Python 3 (ipykernel)",
   "language": "python",
   "name": "python3"
  },
  "language_info": {
   "codemirror_mode": {
    "name": "ipython",
    "version": 3
   },
   "file_extension": ".py",
   "mimetype": "text/x-python",
   "name": "python",
   "nbconvert_exporter": "python",
   "pygments_lexer": "ipython3",
   "version": "3.11.5"
  }
 },
 "nbformat": 4,
 "nbformat_minor": 5
}
