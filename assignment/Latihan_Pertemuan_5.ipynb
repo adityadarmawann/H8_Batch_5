{
 "cells": [
  {
   "cell_type": "markdown",
   "id": "357bfc38-e59f-476c-bea9-fea7fb1af3f6",
   "metadata": {},
   "source": [
    "## Muhamad Aditya Darmawan (PYTN-KS018-01)"
   ]
  },
  {
   "cell_type": "code",
   "execution_count": 23,
   "id": "238ad8c7-a378-4c32-b1d1-e7ef647e8430",
   "metadata": {},
   "outputs": [],
   "source": [
    "import pandas as pd\n",
    "import numpy as np\n",
    "import seaborn as sns"
   ]
  },
  {
   "cell_type": "markdown",
   "id": "7739c5c7-bd05-4a32-ac94-78386dd17881",
   "metadata": {},
   "source": [
    "# Soal No. 4"
   ]
  },
  {
   "cell_type": "code",
   "execution_count": 42,
   "id": "93478428-7e8f-44d2-992f-329974a4224c",
   "metadata": {},
   "outputs": [
    {
     "name": "stdout",
     "output_type": "stream",
     "text": [
      "a     1\n",
      "b     2\n",
      "c     3\n",
      "d     4\n",
      "e     5\n",
      "f     6\n",
      "g     7\n",
      "h     8\n",
      "i     9\n",
      "j    10\n",
      "k    11\n",
      "l    12\n",
      "m    13\n",
      "n    14\n",
      "o    15\n",
      "p    16\n",
      "q    17\n",
      "r    18\n",
      "s    19\n",
      "t    20\n",
      "u    21\n",
      "v    22\n",
      "w    23\n",
      "x    24\n",
      "y    25\n",
      "z    26\n",
      "dtype: int64\n"
     ]
    }
   ],
   "source": [
    "index = list('abcdefghijklmnopqrstuvwxyz')\n",
    "data = list(range(1,27))\n",
    "series = pd.Series(data, index)\n",
    "print(series)"
   ]
  },
  {
   "cell_type": "markdown",
   "id": "c6f20fbd-8140-45ce-81c4-207d6564a3e6",
   "metadata": {},
   "source": [
    "# Soal No. 5"
   ]
  },
  {
   "cell_type": "code",
   "execution_count": 18,
   "id": "ea581039-cf58-494e-8b88-6eed1e01a5cc",
   "metadata": {},
   "outputs": [],
   "source": [
    "data = np.random.randint(1,6,100)\n",
    "series = pd.Series(data)\n",
    "frekuensi = series.value_counts()"
   ]
  },
  {
   "cell_type": "code",
   "execution_count": 19,
   "id": "6c92dfe8-ab4c-434e-8062-9a786c1e99fe",
   "metadata": {},
   "outputs": [
    {
     "name": "stdout",
     "output_type": "stream",
     "text": [
      "[3 1 3 4 2 3 3 5 2 5 4 4 1 5 2 3 5 1 5 3 1 4 5 2 2 5 3 5 2 5 1 1 5 4 5 3 5\n",
      " 3 1 4 1 1 2 2 2 4 5 1 1 2 4 3 1 5 1 3 1 5 2 2 5 5 4 3 4 1 1 4 1 2 2 4 5 3\n",
      " 5 2 3 3 1 4 1 4 5 3 3 4 1 4 2 5 1 1 5 2 1 4 2 4 1 2]\n"
     ]
    }
   ],
   "source": [
    "print(data)"
   ]
  },
  {
   "cell_type": "code",
   "execution_count": 20,
   "id": "7e11000a-0b90-4895-9e16-8ad3150035e7",
   "metadata": {},
   "outputs": [
    {
     "name": "stdout",
     "output_type": "stream",
     "text": [
      "1    24\n",
      "5    22\n",
      "2    19\n",
      "4    18\n",
      "3    17\n",
      "Name: count, dtype: int64\n"
     ]
    }
   ],
   "source": [
    "print(frekuensi)"
   ]
  },
  {
   "cell_type": "code",
   "execution_count": 22,
   "id": "e2acd2e6-de23-4db5-af25-e4c86e70b37a",
   "metadata": {},
   "outputs": [
    {
     "name": "stdout",
     "output_type": "stream",
     "text": [
      "1    24\n",
      "5    22\n",
      "Name: count, dtype: int64\n"
     ]
    }
   ],
   "source": [
    "top2 = frekuensi.nlargest(2)\n",
    "print(top2)"
   ]
  },
  {
   "cell_type": "markdown",
   "id": "9c6035ec-5f66-4f4b-b7ae-9a60fb7a10db",
   "metadata": {},
   "source": [
    "# Soal No. 6"
   ]
  },
  {
   "cell_type": "code",
   "execution_count": 43,
   "id": "32b6e35c-78ee-4905-8f3d-2a5a4bd0c465",
   "metadata": {},
   "outputs": [
    {
     "name": "stdout",
     "output_type": "stream",
     "text": [
      "    mpg  cylinders  displacement  horsepower  weight  acceleration  \\\n",
      "0  18.0          8         307.0       130.0    3504          12.0   \n",
      "1  15.0          8         350.0       165.0    3693          11.5   \n",
      "2  18.0          8         318.0       150.0    3436          11.0   \n",
      "3  16.0          8         304.0       150.0    3433          12.0   \n",
      "4  17.0          8         302.0       140.0    3449          10.5   \n",
      "\n",
      "   model_year origin                       name  \n",
      "0          70    usa  chevrolet chevelle malibu  \n",
      "1          70    usa          buick skylark 320  \n",
      "2          70    usa         plymouth satellite  \n",
      "3          70    usa              amc rebel sst  \n",
      "4          70    usa                ford torino  \n"
     ]
    }
   ],
   "source": [
    "mpg = sns.load_dataset('mpg')\n",
    "print(mpg.head(5))"
   ]
  },
  {
   "cell_type": "code",
   "execution_count": 44,
   "id": "54a93046-9c05-425b-9940-e7a71b48a310",
   "metadata": {},
   "outputs": [
    {
     "name": "stdout",
     "output_type": "stream",
     "text": [
      "       origin        name\n",
      "count     398         398\n",
      "unique      3         305\n",
      "top       usa  ford pinto\n",
      "freq      249           6\n"
     ]
    }
   ],
   "source": [
    "print(mpg.describe(exclude='number'))"
   ]
  },
  {
   "cell_type": "code",
   "execution_count": 31,
   "id": "90245672-1256-4c0b-b394-da86b64c7547",
   "metadata": {},
   "outputs": [
    {
     "name": "stdout",
     "output_type": "stream",
     "text": [
      "Index(['mpg', 'cylinders', 'displacement', 'horsepower', 'weight',\n",
      "       'acceleration', 'model_year', 'origin', 'name'],\n",
      "      dtype='object')\n"
     ]
    }
   ],
   "source": [
    "print(mpg.columns)"
   ]
  },
  {
   "cell_type": "code",
   "execution_count": 32,
   "id": "4f1f95e8-39bb-42e2-ba57-63a873965829",
   "metadata": {},
   "outputs": [
    {
     "name": "stdout",
     "output_type": "stream",
     "text": [
      "mpg             0\n",
      "cylinders       0\n",
      "displacement    0\n",
      "horsepower      6\n",
      "weight          0\n",
      "acceleration    0\n",
      "model_year      0\n",
      "origin          0\n",
      "name            0\n",
      "dtype: int64\n"
     ]
    }
   ],
   "source": [
    "print(mpg.isnull().sum())"
   ]
  },
  {
   "cell_type": "markdown",
   "id": "a0effca0-e973-49c6-9157-40a41c47d1fb",
   "metadata": {},
   "source": [
    "# Soal No. 7"
   ]
  },
  {
   "cell_type": "code",
   "execution_count": 36,
   "id": "26f4aa18-11b6-4a19-b8f8-b6a273de15ad",
   "metadata": {},
   "outputs": [
    {
     "name": "stdout",
     "output_type": "stream",
     "text": [
      "0      False\n",
      "1      False\n",
      "2      False\n",
      "3      False\n",
      "4      False\n",
      "       ...  \n",
      "393    False\n",
      "394    False\n",
      "395    False\n",
      "396    False\n",
      "397    False\n",
      "Name: horsepower, Length: 398, dtype: bool\n"
     ]
    }
   ],
   "source": [
    "mpg = sns.load_dataset('mpg')\n",
    "print(mpg['horsepower'].isnull())"
   ]
  },
  {
   "cell_type": "code",
   "execution_count": 39,
   "id": "a821ca9e-70c1-486d-ad8f-7f1f3267a90d",
   "metadata": {},
   "outputs": [
    {
     "name": "stdout",
     "output_type": "stream",
     "text": [
      "(array([ 32, 126, 330, 336, 354, 374], dtype=int64),)\n"
     ]
    }
   ],
   "source": [
    "print(mpg['horsepower'].isnull().to_numpy().nonzero())"
   ]
  },
  {
   "cell_type": "markdown",
   "id": "a72598f6-b2e7-4a1f-9332-e1801fef2492",
   "metadata": {},
   "source": [
    "# Soal No. 8"
   ]
  },
  {
   "cell_type": "code",
   "execution_count": 41,
   "id": "c4a8855b-a252-4d2a-b5d8-e569b7e43cfc",
   "metadata": {},
   "outputs": [
    {
     "name": "stdout",
     "output_type": "stream",
     "text": [
      "origin\n",
      "europe     80.558824\n",
      "japan      79.835443\n",
      "usa       119.048980\n",
      "Name: horsepower, dtype: float64\n"
     ]
    }
   ],
   "source": [
    "mpg = sns.load_dataset('mpg')\n",
    "grouped = mpg.groupby('origin')\n",
    "print(grouped['horsepower'].mean())"
   ]
  }
 ],
 "metadata": {
  "kernelspec": {
   "display_name": "Python 3 (ipykernel)",
   "language": "python",
   "name": "python3"
  },
  "language_info": {
   "codemirror_mode": {
    "name": "ipython",
    "version": 3
   },
   "file_extension": ".py",
   "mimetype": "text/x-python",
   "name": "python",
   "nbconvert_exporter": "python",
   "pygments_lexer": "ipython3",
   "version": "3.11.5"
  }
 },
 "nbformat": 4,
 "nbformat_minor": 5
}
