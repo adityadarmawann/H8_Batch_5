{
 "cells": [
  {
   "cell_type": "markdown",
   "id": "5ff76e57",
   "metadata": {},
   "source": [
    "### Muhamad Aditya Darmawan (PYTN-KS18-01)"
   ]
  },
  {
   "cell_type": "markdown",
   "id": "d9b64a37",
   "metadata": {},
   "source": [
    "1. Buatlah sebuah fungsi untuk memasukkan sekumpulan angka ke dalam sebuah list. Data yang dimasukkan tersebut kemudian ditampilkan nilainya yang sudah dikalikan dengan 5."
   ]
  },
  {
   "cell_type": "code",
   "execution_count": 15,
   "id": "7d40a50f",
   "metadata": {},
   "outputs": [
    {
     "name": "stdout",
     "output_type": "stream",
     "text": [
      "Masukkan angka yang ingin diolah: 3\n",
      "Masukkan angka ke-1: 1\n",
      "Masukkan angka ke-2: 3\n",
      "Masukkan angka ke-3: 2\n",
      "[5, 15, 10]\n"
     ]
    }
   ],
   "source": [
    "def angka(mylist):\n",
    "    hasil = []\n",
    "    for kelipatan in mylist:\n",
    "        hasil.append(kelipatan*5)\n",
    "    return hasil\n",
    "\n",
    "mylist = []\n",
    "x = int(input(\"Masukkan angka yang ingin diolah: \"))\n",
    "for i in range(x):\n",
    "    kelipatan = int(input(\"Masukkan angka ke-{}: \".format(i+1)))\n",
    "    mylist.append(kelipatan)\n",
    "    \n",
    "print(angka(mylist))"
   ]
  },
  {
   "cell_type": "markdown",
   "id": "78a78563",
   "metadata": {},
   "source": [
    "2. Buatlah fungsi untuk membuat rumus variansi yang dilampirkan dalam Bahasa python. Buatlah 3 fungsi, pertama membuat inputan data, kedua membuat rata-rata, ketiga membuat variansi dan juga standar deviasi. Catatan : fungsi rata-rata dan standar deviasi saling berhubungan."
   ]
  },
  {
   "cell_type": "code",
   "execution_count": null,
   "id": "ee8b9d01",
   "metadata": {},
   "outputs": [],
   "source": [
    "def input_data():\n",
    "    data = []\n",
    "    n = int(input(\"Masukkan jumlah data: \"))\n",
    "    for i in range(n):\n",
    "        datum = float(input(\"Masukkan data ke-{}: \".format(i+1)))\n",
    "        data.append(datum)\n",
    "    return data\n",
    "\n",
    "def mean(data):\n",
    "    return sum(data) / len(data)\n",
    "\n",
    "#Belum beres"
   ]
  },
  {
   "cell_type": "markdown",
   "id": "63ef55b9",
   "metadata": {},
   "source": [
    "3. Buatlah sebuah fungsi (tidak menggunakan fungsi yang sudah disediakan oleh python) untuk melakukan sorting secara ascending dari sebuah list. Pertama-tama, buatlah sebuah inputan untuk memasukan listnya. Tampilkan juga nilai terkecil dan terbesar dari list data tersebut tanpa menggunakan perintah atau fungsi yang telah tersedia oleh python."
   ]
  },
  {
   "cell_type": "code",
   "execution_count": 8,
   "id": "6f97d61f",
   "metadata": {},
   "outputs": [
    {
     "name": "stdout",
     "output_type": "stream",
     "text": [
      "Masukkan jumlah angka yang ingin dimasukkan: 3\n",
      "Masukkan angka ke-1: 3\n",
      "Masukkan angka ke-2: 1\n",
      "Masukkan angka ke-3: 4\n"
     ]
    },
    {
     "ename": "TypeError",
     "evalue": "'>' not supported between instances of 'function' and 'function'",
     "output_type": "error",
     "traceback": [
      "\u001b[0;31m---------------------------------------------------------------------------\u001b[0m",
      "\u001b[0;31mTypeError\u001b[0m                                 Traceback (most recent call last)",
      "Cell \u001b[0;32mIn[8], line 16\u001b[0m\n\u001b[1;32m     13\u001b[0m     ls \u001b[38;5;241m=\u001b[39m \u001b[38;5;28mint\u001b[39m(\u001b[38;5;28minput\u001b[39m(\u001b[38;5;124m\"\u001b[39m\u001b[38;5;124mMasukkan angka ke-\u001b[39m\u001b[38;5;132;01m{}\u001b[39;00m\u001b[38;5;124m: \u001b[39m\u001b[38;5;124m\"\u001b[39m\u001b[38;5;241m.\u001b[39mformat(c\u001b[38;5;241m+\u001b[39m\u001b[38;5;241m1\u001b[39m)))\n\u001b[1;32m     14\u001b[0m     nomor\u001b[38;5;241m.\u001b[39mappend(angka)\n\u001b[0;32m---> 16\u001b[0m sorted_list \u001b[38;5;241m=\u001b[39m sorting(nomor)\n\u001b[1;32m     17\u001b[0m \u001b[38;5;28mprint\u001b[39m(\u001b[38;5;124m\"\u001b[39m\u001b[38;5;124mList yang telah diurutkan secara ascending:\u001b[39m\u001b[38;5;124m\"\u001b[39m, sorted_list)\n\u001b[1;32m     19\u001b[0m nilai_min \u001b[38;5;241m=\u001b[39m sorted_list[\u001b[38;5;241m0\u001b[39m]\n",
      "Cell \u001b[0;32mIn[8], line 4\u001b[0m, in \u001b[0;36msorting\u001b[0;34m(nomor)\u001b[0m\n\u001b[1;32m      2\u001b[0m \u001b[38;5;28;01mfor\u001b[39;00m c \u001b[38;5;129;01min\u001b[39;00m \u001b[38;5;28mrange\u001b[39m(\u001b[38;5;28mlen\u001b[39m(nomor)):\n\u001b[1;32m      3\u001b[0m     \u001b[38;5;28;01mfor\u001b[39;00m d \u001b[38;5;129;01min\u001b[39;00m \u001b[38;5;28mrange\u001b[39m(c\u001b[38;5;241m+\u001b[39m\u001b[38;5;241m1\u001b[39m, \u001b[38;5;28mlen\u001b[39m(nomor)):\n\u001b[0;32m----> 4\u001b[0m         \u001b[38;5;28;01mif\u001b[39;00m nomor[c] \u001b[38;5;241m>\u001b[39m nomor[d]:\n\u001b[1;32m      5\u001b[0m             temp \u001b[38;5;241m=\u001b[39m nomor[c]\n\u001b[1;32m      6\u001b[0m             nomor[c] \u001b[38;5;241m=\u001b[39m nomor[d]\n",
      "\u001b[0;31mTypeError\u001b[0m: '>' not supported between instances of 'function' and 'function'"
     ]
    }
   ],
   "source": [
    "def sorting(nomor):\n",
    "    for c in range(len(nomor)):\n",
    "        for d in range(c+1, len(nomor)):\n",
    "            if nomor[c] > nomor[d]:\n",
    "                temp = nomor[c]\n",
    "                nomor[c] = nomor[d]\n",
    "                nomor[d] = temp\n",
    "    return nomor\n",
    "\n",
    "nomor = []\n",
    "n = int(input(\"Masukkan jumlah angka yang ingin dimasukkan: \"))\n",
    "for c in range(n):\n",
    "    ls = int(input(\"Masukkan angka ke-{}: \".format(c+1)))\n",
    "    nomor.append(angka)\n",
    "\n",
    "sorted_list = sorting(nomor)\n",
    "print(\"List yang telah diurutkan secara ascending:\", sorted_list)\n",
    "\n",
    "nilai_min = sorted_list[0]\n",
    "nilai_max = sorted_list[-1]\n",
    "print(\"Nilai terkecil dari list data tersebut adalah:\", nilai_min)\n",
    "print(\"Nilai terbesar dari list data tersebut adalah:\", nilai_max)"
   ]
  },
  {
   "cell_type": "markdown",
   "id": "81f1b775",
   "metadata": {},
   "source": [
    "4. Buat sebuah fungsi untuk membalik setiap kata yang ada dalam sebuah kalimat."
   ]
  },
  {
   "cell_type": "code",
   "execution_count": 10,
   "id": "4998a939",
   "metadata": {},
   "outputs": [
    {
     "name": "stdout",
     "output_type": "stream",
     "text": [
      "Silakan inputkan klimatnya: aku mau belajar sungguh sungguh\n",
      "Kalimat tersebut apabila dibalik maka menjadi: uka uam rajaleb huggnus huggnus\n"
     ]
    }
   ],
   "source": [
    "def reverse_words(sentence):\n",
    "    words = sentence.split()\n",
    "    reversed_words = []\n",
    "    for word in words:\n",
    "        reversed_word = \"\"\n",
    "        for i in range(len(word)-1, -1, -1):\n",
    "            reversed_word += word[i]\n",
    "        reversed_words.append(reversed_word)\n",
    "    reversed_sentence = \" \".join(reversed_words)\n",
    "    return reversed_sentence\n",
    "\n",
    "sentence = input(\"Silakan inputkan klimatnya: \")\n",
    "reversed_sentence = reverse_words(sentence)\n",
    "print(\"Kalimat tersebut apabila dibalik maka menjadi:\", reversed_sentence)"
   ]
  },
  {
   "cell_type": "markdown",
   "id": "0c25160e",
   "metadata": {},
   "source": [
    "5. Buatlah sebuah fungsi untuk menghitung jumlah upper case dan lower case character."
   ]
  },
  {
   "cell_type": "code",
   "execution_count": 12,
   "id": "4da3f81d",
   "metadata": {},
   "outputs": [
    {
     "name": "stdout",
     "output_type": "stream",
     "text": [
      "Masukkan kalimat yang akan dihitung karakter: Aku COba melakukan tugas ini semoga bisa\n",
      "Jumlah karakter upper case: 3\n",
      "Jumlah karakter lower case: 31\n"
     ]
    }
   ],
   "source": [
    "def count_upper_lower(string):\n",
    "    upper_count = 0\n",
    "    lower_count = 0\n",
    "    for char in string:\n",
    "        if char.isupper():\n",
    "            upper_count += 1\n",
    "        elif char.islower():\n",
    "            lower_count += 1\n",
    "    return upper_count, lower_count\n",
    "\n",
    "string = input(\"Masukkan kalimat yang akan dihitung karakter: \")\n",
    "upper_count, lower_count = count_upper_lower(string)\n",
    "print(\"Jumlah karakter upper case:\", upper_count)\n",
    "print(\"Jumlah karakter lower case:\", lower_count)"
   ]
  }
 ],
 "metadata": {
  "kernelspec": {
   "display_name": "Python 3 (ipykernel)",
   "language": "python",
   "name": "python3"
  },
  "language_info": {
   "codemirror_mode": {
    "name": "ipython",
    "version": 3
   },
   "file_extension": ".py",
   "mimetype": "text/x-python",
   "name": "python",
   "nbconvert_exporter": "python",
   "pygments_lexer": "ipython3",
   "version": "3.11.4"
  }
 },
 "nbformat": 4,
 "nbformat_minor": 5
}
