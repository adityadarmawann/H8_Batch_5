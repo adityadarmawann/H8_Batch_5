{
 "cells": [
  {
   "cell_type": "markdown",
   "id": "b1516baa",
   "metadata": {},
   "source": [
    "## Nama : Muhamad Aditya Darmawan"
   ]
  },
  {
   "cell_type": "markdown",
   "id": "68e68843",
   "metadata": {},
   "source": [
    "# Latihan Soal"
   ]
  },
  {
   "cell_type": "markdown",
   "id": "c01431a0",
   "metadata": {},
   "source": [
    "1. Buatlah sebuah program untuk menentukan apakah sebuah bilangan termasuk kedalam bilangan ganjil atau bilangan genap. Sebagai tambahan, apabila ditemukan angka 0 berikan keterangan bahwa 0 bukanlah bilangan ganjil atau genap, serta apabila inputan yang dimasukan kurang dari 0 (bilangan negative), maka berikan output untuk memberi tau kalua inputan yang benar adalah bilangan bulat positif."
   ]
  },
  {
   "cell_type": "code",
   "execution_count": 10,
   "id": "8219fb20",
   "metadata": {},
   "outputs": [
    {
     "name": "stdout",
     "output_type": "stream",
     "text": [
      "Silakan masukan angka: 6\n",
      "6 tersebut termasuk bilangan genap\n"
     ]
    }
   ],
   "source": [
    "angka = int(input(\"Silakan masukan angka: \"))\n",
    "\n",
    "if angka == 0:\n",
    "    print('0 bukan bilangan ganjil ataupun genap')\n",
    "elif angka < 0:\n",
    "    print(\"masukan angka yang benar yaitu bilangan positif.\")\n",
    "else:\n",
    "    if angka % 2 == 0:\n",
    "        print(f\"{angka} tersebut termasuk bilangan genap\")\n",
    "    else:\n",
    "        print(f\"{angka} tersebut termasuk bilangan ganjil\")\n"
   ]
  },
  {
   "cell_type": "markdown",
   "id": "ba1fffe3",
   "metadata": {},
   "source": [
    "2. Buatlah sebuah program menu untuk menghitung beberapa rumus bangun ruang."
   ]
  },
  {
   "cell_type": "code",
   "execution_count": 7,
   "id": "a2716a57",
   "metadata": {},
   "outputs": [
    {
     "name": "stdout",
     "output_type": "stream",
     "text": [
      "Menu:\n",
      "1. Hitung luas segitiga\n",
      "2. Hitung luas persegi\n",
      "3. Keluar\n",
      "Masukkan pilihan Anda: 1\n",
      "Masukkan alas segitiga: 20\n",
      "Masukkan tinggi segitiga: 30\n",
      "Luas segitiga adalah 300.0\n",
      "Menu:\n",
      "1. Hitung luas segitiga\n",
      "2. Hitung luas persegi\n",
      "3. Keluar\n",
      "Masukkan pilihan Anda: 3\n"
     ]
    }
   ],
   "source": [
    "def hitung_luas_segitiga(alas, tinggi):\n",
    "    luas = 0.5 * alas * tinggi\n",
    "    return luas\n",
    "\n",
    "def hitung_luas_persegi(sisi):\n",
    "    luas = sisi * sisi\n",
    "    return luas\n",
    "\n",
    "def menu():\n",
    "    print(\"Menu:\")\n",
    "    print(\"1. Hitung luas segitiga\")\n",
    "    print(\"2. Hitung luas persegi\")\n",
    "    print(\"3. Keluar\")\n",
    "    \n",
    "while True:\n",
    "    menu()\n",
    "    pilihan = input(\"Masukkan pilihan Anda: \")\n",
    "    \n",
    "    if pilihan == \"1\":\n",
    "        alas = float(input(\"Masukkan alas segitiga: \"))\n",
    "        tinggi = float(input(\"Masukkan tinggi segitiga: \"))\n",
    "        print(f\"Luas segitiga adalah {hitung_luas_segitiga(alas, tinggi)}\")\n",
    "        \n",
    "    elif pilihan == \"2\":\n",
    "        sisi = float(input(\"Masukkan sisi persegi: \"))\n",
    "        print(f\"Luas persegi adalah {hitung_luas_persegi(sisi)}\")\n",
    "        \n",
    "    elif pilihan == \"3\":\n",
    "        break\n",
    "        \n",
    "    else:\n",
    "        print(\"Masukan Inputan Yang Benar\")"
   ]
  },
  {
   "cell_type": "markdown",
   "id": "4ee8d3ae",
   "metadata": {},
   "source": [
    "3. Buatlah sebuah program untuk membuat detail tahun, bulan, minggu hingga hari dari total jumlah hari yang dimasukan. Catatnnya adalah 1 Tahun = 360 Hari; 1 Bulan = 30 Hari; 1 Minggu = 7 Hari. Berikut ini output yang diharapkan."
   ]
  },
  {
   "cell_type": "code",
   "execution_count": 11,
   "id": "4e8e53da",
   "metadata": {},
   "outputs": [
    {
     "name": "stdout",
     "output_type": "stream",
     "text": [
      "Masukkan jumlah hari: 63\n",
      "63 hari sama dengan 0 tahun, 2 bulan, 0 minggu, dan 3 hari.\n"
     ]
    }
   ],
   "source": [
    "jml_hari = int(input(\"Masukkan jumlah hari: \"))\n",
    "\n",
    "tahun = jml_hari // 360\n",
    "bulan = (jml_hari % 360) // 30\n",
    "minggu = ((jml_hari % 360) % 30) // 7\n",
    "hari = ((jml_hari % 360) % 30) % 7\n",
    "\n",
    "print(f\"{jml_hari} hari sama dengan {tahun} tahun, {bulan} bulan, {minggu} minggu, dan {hari} hari.\")"
   ]
  },
  {
   "cell_type": "markdown",
   "id": "6532107e",
   "metadata": {},
   "source": [
    "4. Buatlah sebuah program untuk menampilkan sebuah kalimat yang jumlah karakternya dibawah\n",
    "50 karakter. Jika tidak memasukan inputan apa-apa, program akan menampilkan pesan untuk\n",
    "memasukan sebuah kalimat. Berikut ini contoh outputnya."
   ]
  },
  {
   "cell_type": "code",
   "execution_count": 9,
   "id": "434ea27d",
   "metadata": {},
   "outputs": [
    {
     "name": "stdout",
     "output_type": "stream",
     "text": [
      "Masukkan sebuah kalimat: aku mau coba coba nih\n",
      "aku mau coba coba nih\n"
     ]
    }
   ],
   "source": [
    "kalimat = input(\"Masukkan sebuah kalimat: \")\n",
    "\n",
    "if len(kalimat) < 50:\n",
    "    print(kalimat)\n",
    "else:\n",
    "    print(\"Kalimat terlalu panjang.\")"
   ]
  }
 ],
 "metadata": {
  "kernelspec": {
   "display_name": "Python 3 (ipykernel)",
   "language": "python",
   "name": "python3"
  },
  "language_info": {
   "codemirror_mode": {
    "name": "ipython",
    "version": 3
   },
   "file_extension": ".py",
   "mimetype": "text/x-python",
   "name": "python",
   "nbconvert_exporter": "python",
   "pygments_lexer": "ipython3",
   "version": "3.11.4"
  }
 },
 "nbformat": 4,
 "nbformat_minor": 5
}
