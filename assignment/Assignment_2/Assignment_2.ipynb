{
 "cells": [
  {
   "cell_type": "code",
   "execution_count": 122,
   "id": "57b52c48",
   "metadata": {},
   "outputs": [],
   "source": [
    "import numpy as np\n",
    "import pandas as pd\n",
    "import seaborn as sns\n",
    "import matplotlib.pyplot as plt\n",
    "import scipy.stats as stats"
   ]
  },
  {
   "cell_type": "code",
   "execution_count": 67,
   "id": "0e4b40dc",
   "metadata": {},
   "outputs": [],
   "source": [
    "# Load the dataset into a Pandas DataFrame\n",
    "df = pd.read_csv(\"nyc-rolling-sales.csv\")"
   ]
  },
  {
   "cell_type": "code",
   "execution_count": 68,
   "id": "f9cb7477",
   "metadata": {},
   "outputs": [
    {
     "data": {
      "text/html": [
       "<div>\n",
       "<style scoped>\n",
       "    .dataframe tbody tr th:only-of-type {\n",
       "        vertical-align: middle;\n",
       "    }\n",
       "\n",
       "    .dataframe tbody tr th {\n",
       "        vertical-align: top;\n",
       "    }\n",
       "\n",
       "    .dataframe thead th {\n",
       "        text-align: right;\n",
       "    }\n",
       "</style>\n",
       "<table border=\"1\" class=\"dataframe\">\n",
       "  <thead>\n",
       "    <tr style=\"text-align: right;\">\n",
       "      <th></th>\n",
       "      <th>Unnamed: 0</th>\n",
       "      <th>BOROUGH</th>\n",
       "      <th>NEIGHBORHOOD</th>\n",
       "      <th>BUILDING CLASS CATEGORY</th>\n",
       "      <th>TAX CLASS AT PRESENT</th>\n",
       "      <th>BLOCK</th>\n",
       "      <th>LOT</th>\n",
       "      <th>EASE-MENT</th>\n",
       "      <th>BUILDING CLASS AT PRESENT</th>\n",
       "      <th>ADDRESS</th>\n",
       "      <th>...</th>\n",
       "      <th>RESIDENTIAL UNITS</th>\n",
       "      <th>COMMERCIAL UNITS</th>\n",
       "      <th>TOTAL UNITS</th>\n",
       "      <th>LAND SQUARE FEET</th>\n",
       "      <th>GROSS SQUARE FEET</th>\n",
       "      <th>YEAR BUILT</th>\n",
       "      <th>TAX CLASS AT TIME OF SALE</th>\n",
       "      <th>BUILDING CLASS AT TIME OF SALE</th>\n",
       "      <th>SALE PRICE</th>\n",
       "      <th>SALE DATE</th>\n",
       "    </tr>\n",
       "  </thead>\n",
       "  <tbody>\n",
       "    <tr>\n",
       "      <th>0</th>\n",
       "      <td>4</td>\n",
       "      <td>1</td>\n",
       "      <td>ALPHABET CITY</td>\n",
       "      <td>07 RENTALS - WALKUP APARTMENTS</td>\n",
       "      <td>2A</td>\n",
       "      <td>392</td>\n",
       "      <td>6</td>\n",
       "      <td></td>\n",
       "      <td>C2</td>\n",
       "      <td>153 AVENUE B</td>\n",
       "      <td>...</td>\n",
       "      <td>5</td>\n",
       "      <td>0</td>\n",
       "      <td>5</td>\n",
       "      <td>1633</td>\n",
       "      <td>6440</td>\n",
       "      <td>1900</td>\n",
       "      <td>2</td>\n",
       "      <td>C2</td>\n",
       "      <td>6625000</td>\n",
       "      <td>2017-07-19 00:00:00</td>\n",
       "    </tr>\n",
       "    <tr>\n",
       "      <th>1</th>\n",
       "      <td>5</td>\n",
       "      <td>1</td>\n",
       "      <td>ALPHABET CITY</td>\n",
       "      <td>07 RENTALS - WALKUP APARTMENTS</td>\n",
       "      <td>2</td>\n",
       "      <td>399</td>\n",
       "      <td>26</td>\n",
       "      <td></td>\n",
       "      <td>C7</td>\n",
       "      <td>234 EAST 4TH   STREET</td>\n",
       "      <td>...</td>\n",
       "      <td>28</td>\n",
       "      <td>3</td>\n",
       "      <td>31</td>\n",
       "      <td>4616</td>\n",
       "      <td>18690</td>\n",
       "      <td>1900</td>\n",
       "      <td>2</td>\n",
       "      <td>C7</td>\n",
       "      <td>-</td>\n",
       "      <td>2016-12-14 00:00:00</td>\n",
       "    </tr>\n",
       "    <tr>\n",
       "      <th>2</th>\n",
       "      <td>6</td>\n",
       "      <td>1</td>\n",
       "      <td>ALPHABET CITY</td>\n",
       "      <td>07 RENTALS - WALKUP APARTMENTS</td>\n",
       "      <td>2</td>\n",
       "      <td>399</td>\n",
       "      <td>39</td>\n",
       "      <td></td>\n",
       "      <td>C7</td>\n",
       "      <td>197 EAST 3RD   STREET</td>\n",
       "      <td>...</td>\n",
       "      <td>16</td>\n",
       "      <td>1</td>\n",
       "      <td>17</td>\n",
       "      <td>2212</td>\n",
       "      <td>7803</td>\n",
       "      <td>1900</td>\n",
       "      <td>2</td>\n",
       "      <td>C7</td>\n",
       "      <td>-</td>\n",
       "      <td>2016-12-09 00:00:00</td>\n",
       "    </tr>\n",
       "    <tr>\n",
       "      <th>3</th>\n",
       "      <td>7</td>\n",
       "      <td>1</td>\n",
       "      <td>ALPHABET CITY</td>\n",
       "      <td>07 RENTALS - WALKUP APARTMENTS</td>\n",
       "      <td>2B</td>\n",
       "      <td>402</td>\n",
       "      <td>21</td>\n",
       "      <td></td>\n",
       "      <td>C4</td>\n",
       "      <td>154 EAST 7TH STREET</td>\n",
       "      <td>...</td>\n",
       "      <td>10</td>\n",
       "      <td>0</td>\n",
       "      <td>10</td>\n",
       "      <td>2272</td>\n",
       "      <td>6794</td>\n",
       "      <td>1913</td>\n",
       "      <td>2</td>\n",
       "      <td>C4</td>\n",
       "      <td>3936272</td>\n",
       "      <td>2016-09-23 00:00:00</td>\n",
       "    </tr>\n",
       "    <tr>\n",
       "      <th>4</th>\n",
       "      <td>8</td>\n",
       "      <td>1</td>\n",
       "      <td>ALPHABET CITY</td>\n",
       "      <td>07 RENTALS - WALKUP APARTMENTS</td>\n",
       "      <td>2A</td>\n",
       "      <td>404</td>\n",
       "      <td>55</td>\n",
       "      <td></td>\n",
       "      <td>C2</td>\n",
       "      <td>301 EAST 10TH   STREET</td>\n",
       "      <td>...</td>\n",
       "      <td>6</td>\n",
       "      <td>0</td>\n",
       "      <td>6</td>\n",
       "      <td>2369</td>\n",
       "      <td>4615</td>\n",
       "      <td>1900</td>\n",
       "      <td>2</td>\n",
       "      <td>C2</td>\n",
       "      <td>8000000</td>\n",
       "      <td>2016-11-17 00:00:00</td>\n",
       "    </tr>\n",
       "  </tbody>\n",
       "</table>\n",
       "<p>5 rows × 22 columns</p>\n",
       "</div>"
      ],
      "text/plain": [
       "   Unnamed: 0  BOROUGH   NEIGHBORHOOD  \\\n",
       "0           4        1  ALPHABET CITY   \n",
       "1           5        1  ALPHABET CITY   \n",
       "2           6        1  ALPHABET CITY   \n",
       "3           7        1  ALPHABET CITY   \n",
       "4           8        1  ALPHABET CITY   \n",
       "\n",
       "                       BUILDING CLASS CATEGORY TAX CLASS AT PRESENT  BLOCK  \\\n",
       "0  07 RENTALS - WALKUP APARTMENTS                                2A    392   \n",
       "1  07 RENTALS - WALKUP APARTMENTS                                 2    399   \n",
       "2  07 RENTALS - WALKUP APARTMENTS                                 2    399   \n",
       "3  07 RENTALS - WALKUP APARTMENTS                                2B    402   \n",
       "4  07 RENTALS - WALKUP APARTMENTS                                2A    404   \n",
       "\n",
       "   LOT EASE-MENT BUILDING CLASS AT PRESENT                 ADDRESS  ...  \\\n",
       "0    6                                  C2            153 AVENUE B  ...   \n",
       "1   26                                  C7   234 EAST 4TH   STREET  ...   \n",
       "2   39                                  C7   197 EAST 3RD   STREET  ...   \n",
       "3   21                                  C4     154 EAST 7TH STREET  ...   \n",
       "4   55                                  C2  301 EAST 10TH   STREET  ...   \n",
       "\n",
       "  RESIDENTIAL UNITS  COMMERCIAL UNITS  TOTAL UNITS  LAND SQUARE FEET  \\\n",
       "0                 5                 0            5              1633   \n",
       "1                28                 3           31              4616   \n",
       "2                16                 1           17              2212   \n",
       "3                10                 0           10              2272   \n",
       "4                 6                 0            6              2369   \n",
       "\n",
       "   GROSS SQUARE FEET YEAR BUILT TAX CLASS AT TIME OF SALE  \\\n",
       "0               6440       1900                         2   \n",
       "1              18690       1900                         2   \n",
       "2               7803       1900                         2   \n",
       "3               6794       1913                         2   \n",
       "4               4615       1900                         2   \n",
       "\n",
       "   BUILDING CLASS AT TIME OF SALE  SALE PRICE            SALE DATE  \n",
       "0                              C2     6625000  2017-07-19 00:00:00  \n",
       "1                              C7         -    2016-12-14 00:00:00  \n",
       "2                              C7         -    2016-12-09 00:00:00  \n",
       "3                              C4     3936272  2016-09-23 00:00:00  \n",
       "4                              C2     8000000  2016-11-17 00:00:00  \n",
       "\n",
       "[5 rows x 22 columns]"
      ]
     },
     "execution_count": 68,
     "metadata": {},
     "output_type": "execute_result"
    }
   ],
   "source": [
    "#menampilkan sebagian isi dari table\n",
    "df.head()"
   ]
  },
  {
   "cell_type": "code",
   "execution_count": 69,
   "id": "eba6e2c6",
   "metadata": {},
   "outputs": [
    {
     "name": "stdout",
     "output_type": "stream",
     "text": [
      "<class 'pandas.core.frame.DataFrame'>\n",
      "RangeIndex: 84548 entries, 0 to 84547\n",
      "Data columns (total 22 columns):\n",
      " #   Column                          Non-Null Count  Dtype \n",
      "---  ------                          --------------  ----- \n",
      " 0   Unnamed: 0                      84548 non-null  int64 \n",
      " 1   BOROUGH                         84548 non-null  int64 \n",
      " 2   NEIGHBORHOOD                    84548 non-null  object\n",
      " 3   BUILDING CLASS CATEGORY         84548 non-null  object\n",
      " 4   TAX CLASS AT PRESENT            84548 non-null  object\n",
      " 5   BLOCK                           84548 non-null  int64 \n",
      " 6   LOT                             84548 non-null  int64 \n",
      " 7   EASE-MENT                       84548 non-null  object\n",
      " 8   BUILDING CLASS AT PRESENT       84548 non-null  object\n",
      " 9   ADDRESS                         84548 non-null  object\n",
      " 10  APARTMENT NUMBER                84548 non-null  object\n",
      " 11  ZIP CODE                        84548 non-null  int64 \n",
      " 12  RESIDENTIAL UNITS               84548 non-null  int64 \n",
      " 13  COMMERCIAL UNITS                84548 non-null  int64 \n",
      " 14  TOTAL UNITS                     84548 non-null  int64 \n",
      " 15  LAND SQUARE FEET                84548 non-null  object\n",
      " 16  GROSS SQUARE FEET               84548 non-null  object\n",
      " 17  YEAR BUILT                      84548 non-null  int64 \n",
      " 18  TAX CLASS AT TIME OF SALE       84548 non-null  int64 \n",
      " 19  BUILDING CLASS AT TIME OF SALE  84548 non-null  object\n",
      " 20  SALE PRICE                      84548 non-null  object\n",
      " 21  SALE DATE                       84548 non-null  object\n",
      "dtypes: int64(10), object(12)\n",
      "memory usage: 14.2+ MB\n"
     ]
    }
   ],
   "source": [
    "#menampilkan info dari tabel\n",
    "df.info()"
   ]
  },
  {
   "cell_type": "markdown",
   "id": "db7c8010",
   "metadata": {},
   "source": [
    "# Preprocessing"
   ]
  },
  {
   "cell_type": "code",
   "execution_count": 70,
   "id": "52dce131",
   "metadata": {},
   "outputs": [],
   "source": [
    "# Data Type Conversion\n",
    "df[\"SALE PRICE\"] = pd.to_numeric(df[\"SALE PRICE\"], errors=\"coerce\")\n",
    "df[\"LAND SQUARE FEET\"] = pd.to_numeric(df[\"LAND SQUARE FEET\"], errors=\"coerce\")\n",
    "df[\"GROSS SQUARE FEET\"] = pd.to_numeric(df[\"GROSS SQUARE FEET\"], errors=\"coerce\")"
   ]
  },
  {
   "cell_type": "code",
   "execution_count": 101,
   "id": "34ab2770",
   "metadata": {},
   "outputs": [],
   "source": [
    "# Filter Dataset for properties built between 1900 and those built from 2001 onwards\n",
    "properties_before_2000 = df[(df[\"YEAR BUILT\"] >= 1900) & (df[\"YEAR BUILT\"] <= 2000)]\n",
    "properties_after_2000 = df[df[\"YEAR BUILT\"] > 2000]"
   ]
  },
  {
   "cell_type": "markdown",
   "id": "b8d70c85",
   "metadata": {},
   "source": [
    "# Measure of Central Tendency"
   ]
  },
  {
   "cell_type": "code",
   "execution_count": 102,
   "id": "75132435",
   "metadata": {},
   "outputs": [],
   "source": [
    "# Mean\n",
    "mean_harga = int(df[\"SALE PRICE\"].mean())"
   ]
  },
  {
   "cell_type": "code",
   "execution_count": 103,
   "id": "ef2d9380",
   "metadata": {},
   "outputs": [
    {
     "data": {
      "text/plain": [
       "1276456"
      ]
     },
     "execution_count": 103,
     "metadata": {},
     "output_type": "execute_result"
    }
   ],
   "source": [
    "mean_harga"
   ]
  },
  {
   "cell_type": "code",
   "execution_count": 104,
   "id": "8f94553d",
   "metadata": {},
   "outputs": [],
   "source": [
    "# Median\n",
    "median_harga = int(df[\"SALE PRICE\"].median())"
   ]
  },
  {
   "cell_type": "code",
   "execution_count": 105,
   "id": "f2e9a6f8",
   "metadata": {},
   "outputs": [
    {
     "data": {
      "text/plain": [
       "530000"
      ]
     },
     "execution_count": 105,
     "metadata": {},
     "output_type": "execute_result"
    }
   ],
   "source": [
    "median_harga"
   ]
  },
  {
   "cell_type": "code",
   "execution_count": 106,
   "id": "66fa55e9",
   "metadata": {},
   "outputs": [],
   "source": [
    "# Modus\n",
    "modus_harga = int(df[\"SALE PRICE\"].mode().iloc[0])"
   ]
  },
  {
   "cell_type": "code",
   "execution_count": 107,
   "id": "372ce0bf",
   "metadata": {},
   "outputs": [
    {
     "data": {
      "text/plain": [
       "0"
      ]
     },
     "execution_count": 107,
     "metadata": {},
     "output_type": "execute_result"
    }
   ],
   "source": [
    "modus_harga"
   ]
  },
  {
   "cell_type": "code",
   "execution_count": 108,
   "id": "84a7a22a",
   "metadata": {},
   "outputs": [],
   "source": [
    "harga_null = df[df[\"SALE PRICE\"].isnull()]"
   ]
  },
  {
   "cell_type": "code",
   "execution_count": 109,
   "id": "418548d8",
   "metadata": {},
   "outputs": [
    {
     "data": {
      "text/html": [
       "<div>\n",
       "<style scoped>\n",
       "    .dataframe tbody tr th:only-of-type {\n",
       "        vertical-align: middle;\n",
       "    }\n",
       "\n",
       "    .dataframe tbody tr th {\n",
       "        vertical-align: top;\n",
       "    }\n",
       "\n",
       "    .dataframe thead th {\n",
       "        text-align: right;\n",
       "    }\n",
       "</style>\n",
       "<table border=\"1\" class=\"dataframe\">\n",
       "  <thead>\n",
       "    <tr style=\"text-align: right;\">\n",
       "      <th></th>\n",
       "      <th>Unnamed: 0</th>\n",
       "      <th>BOROUGH</th>\n",
       "      <th>NEIGHBORHOOD</th>\n",
       "      <th>BUILDING CLASS CATEGORY</th>\n",
       "      <th>TAX CLASS AT PRESENT</th>\n",
       "      <th>BLOCK</th>\n",
       "      <th>LOT</th>\n",
       "      <th>EASE-MENT</th>\n",
       "      <th>BUILDING CLASS AT PRESENT</th>\n",
       "      <th>ADDRESS</th>\n",
       "      <th>...</th>\n",
       "      <th>RESIDENTIAL UNITS</th>\n",
       "      <th>COMMERCIAL UNITS</th>\n",
       "      <th>TOTAL UNITS</th>\n",
       "      <th>LAND SQUARE FEET</th>\n",
       "      <th>GROSS SQUARE FEET</th>\n",
       "      <th>YEAR BUILT</th>\n",
       "      <th>TAX CLASS AT TIME OF SALE</th>\n",
       "      <th>BUILDING CLASS AT TIME OF SALE</th>\n",
       "      <th>SALE PRICE</th>\n",
       "      <th>SALE DATE</th>\n",
       "    </tr>\n",
       "  </thead>\n",
       "  <tbody>\n",
       "    <tr>\n",
       "      <th>1</th>\n",
       "      <td>5</td>\n",
       "      <td>1</td>\n",
       "      <td>ALPHABET CITY</td>\n",
       "      <td>07 RENTALS - WALKUP APARTMENTS</td>\n",
       "      <td>2</td>\n",
       "      <td>399</td>\n",
       "      <td>26</td>\n",
       "      <td></td>\n",
       "      <td>C7</td>\n",
       "      <td>234 EAST 4TH   STREET</td>\n",
       "      <td>...</td>\n",
       "      <td>28</td>\n",
       "      <td>3</td>\n",
       "      <td>31</td>\n",
       "      <td>4616.0</td>\n",
       "      <td>18690.0</td>\n",
       "      <td>1900</td>\n",
       "      <td>2</td>\n",
       "      <td>C7</td>\n",
       "      <td>NaN</td>\n",
       "      <td>2016-12-14 00:00:00</td>\n",
       "    </tr>\n",
       "    <tr>\n",
       "      <th>2</th>\n",
       "      <td>6</td>\n",
       "      <td>1</td>\n",
       "      <td>ALPHABET CITY</td>\n",
       "      <td>07 RENTALS - WALKUP APARTMENTS</td>\n",
       "      <td>2</td>\n",
       "      <td>399</td>\n",
       "      <td>39</td>\n",
       "      <td></td>\n",
       "      <td>C7</td>\n",
       "      <td>197 EAST 3RD   STREET</td>\n",
       "      <td>...</td>\n",
       "      <td>16</td>\n",
       "      <td>1</td>\n",
       "      <td>17</td>\n",
       "      <td>2212.0</td>\n",
       "      <td>7803.0</td>\n",
       "      <td>1900</td>\n",
       "      <td>2</td>\n",
       "      <td>C7</td>\n",
       "      <td>NaN</td>\n",
       "      <td>2016-12-09 00:00:00</td>\n",
       "    </tr>\n",
       "    <tr>\n",
       "      <th>5</th>\n",
       "      <td>9</td>\n",
       "      <td>1</td>\n",
       "      <td>ALPHABET CITY</td>\n",
       "      <td>07 RENTALS - WALKUP APARTMENTS</td>\n",
       "      <td>2</td>\n",
       "      <td>405</td>\n",
       "      <td>16</td>\n",
       "      <td></td>\n",
       "      <td>C4</td>\n",
       "      <td>516 EAST 12TH   STREET</td>\n",
       "      <td>...</td>\n",
       "      <td>20</td>\n",
       "      <td>0</td>\n",
       "      <td>20</td>\n",
       "      <td>2581.0</td>\n",
       "      <td>9730.0</td>\n",
       "      <td>1900</td>\n",
       "      <td>2</td>\n",
       "      <td>C4</td>\n",
       "      <td>NaN</td>\n",
       "      <td>2017-07-20 00:00:00</td>\n",
       "    </tr>\n",
       "    <tr>\n",
       "      <th>7</th>\n",
       "      <td>11</td>\n",
       "      <td>1</td>\n",
       "      <td>ALPHABET CITY</td>\n",
       "      <td>07 RENTALS - WALKUP APARTMENTS</td>\n",
       "      <td>2</td>\n",
       "      <td>407</td>\n",
       "      <td>18</td>\n",
       "      <td></td>\n",
       "      <td>C7</td>\n",
       "      <td>520 EAST 14TH   STREET</td>\n",
       "      <td>...</td>\n",
       "      <td>44</td>\n",
       "      <td>2</td>\n",
       "      <td>46</td>\n",
       "      <td>5163.0</td>\n",
       "      <td>21007.0</td>\n",
       "      <td>1900</td>\n",
       "      <td>2</td>\n",
       "      <td>C7</td>\n",
       "      <td>NaN</td>\n",
       "      <td>2017-07-20 00:00:00</td>\n",
       "    </tr>\n",
       "    <tr>\n",
       "      <th>8</th>\n",
       "      <td>12</td>\n",
       "      <td>1</td>\n",
       "      <td>ALPHABET CITY</td>\n",
       "      <td>08 RENTALS - ELEVATOR APARTMENTS</td>\n",
       "      <td>2</td>\n",
       "      <td>379</td>\n",
       "      <td>34</td>\n",
       "      <td></td>\n",
       "      <td>D5</td>\n",
       "      <td>141 AVENUE D</td>\n",
       "      <td>...</td>\n",
       "      <td>15</td>\n",
       "      <td>0</td>\n",
       "      <td>15</td>\n",
       "      <td>1534.0</td>\n",
       "      <td>9198.0</td>\n",
       "      <td>1920</td>\n",
       "      <td>2</td>\n",
       "      <td>D5</td>\n",
       "      <td>NaN</td>\n",
       "      <td>2017-06-20 00:00:00</td>\n",
       "    </tr>\n",
       "    <tr>\n",
       "      <th>...</th>\n",
       "      <td>...</td>\n",
       "      <td>...</td>\n",
       "      <td>...</td>\n",
       "      <td>...</td>\n",
       "      <td>...</td>\n",
       "      <td>...</td>\n",
       "      <td>...</td>\n",
       "      <td>...</td>\n",
       "      <td>...</td>\n",
       "      <td>...</td>\n",
       "      <td>...</td>\n",
       "      <td>...</td>\n",
       "      <td>...</td>\n",
       "      <td>...</td>\n",
       "      <td>...</td>\n",
       "      <td>...</td>\n",
       "      <td>...</td>\n",
       "      <td>...</td>\n",
       "      <td>...</td>\n",
       "      <td>...</td>\n",
       "      <td>...</td>\n",
       "    </tr>\n",
       "    <tr>\n",
       "      <th>84524</th>\n",
       "      <td>8390</td>\n",
       "      <td>5</td>\n",
       "      <td>WOODROW</td>\n",
       "      <td>02 TWO FAMILY DWELLINGS</td>\n",
       "      <td>1</td>\n",
       "      <td>7091</td>\n",
       "      <td>28</td>\n",
       "      <td></td>\n",
       "      <td>B9</td>\n",
       "      <td>51 CLAY PIT ROAD</td>\n",
       "      <td>...</td>\n",
       "      <td>2</td>\n",
       "      <td>0</td>\n",
       "      <td>2</td>\n",
       "      <td>2986.0</td>\n",
       "      <td>1820.0</td>\n",
       "      <td>1999</td>\n",
       "      <td>1</td>\n",
       "      <td>B9</td>\n",
       "      <td>NaN</td>\n",
       "      <td>2017-07-06 00:00:00</td>\n",
       "    </tr>\n",
       "    <tr>\n",
       "      <th>84525</th>\n",
       "      <td>8391</td>\n",
       "      <td>5</td>\n",
       "      <td>WOODROW</td>\n",
       "      <td>02 TWO FAMILY DWELLINGS</td>\n",
       "      <td>1</td>\n",
       "      <td>7091</td>\n",
       "      <td>188</td>\n",
       "      <td></td>\n",
       "      <td>B9</td>\n",
       "      <td>1576 WOODROW ROAD</td>\n",
       "      <td>...</td>\n",
       "      <td>2</td>\n",
       "      <td>0</td>\n",
       "      <td>2</td>\n",
       "      <td>2490.0</td>\n",
       "      <td>1530.0</td>\n",
       "      <td>1998</td>\n",
       "      <td>1</td>\n",
       "      <td>B9</td>\n",
       "      <td>NaN</td>\n",
       "      <td>2016-10-14 00:00:00</td>\n",
       "    </tr>\n",
       "    <tr>\n",
       "      <th>84538</th>\n",
       "      <td>8404</td>\n",
       "      <td>5</td>\n",
       "      <td>WOODROW</td>\n",
       "      <td>02 TWO FAMILY DWELLINGS</td>\n",
       "      <td>1</td>\n",
       "      <td>7316</td>\n",
       "      <td>61</td>\n",
       "      <td></td>\n",
       "      <td>B2</td>\n",
       "      <td>178 DARNELL LANE</td>\n",
       "      <td>...</td>\n",
       "      <td>2</td>\n",
       "      <td>0</td>\n",
       "      <td>2</td>\n",
       "      <td>3215.0</td>\n",
       "      <td>1300.0</td>\n",
       "      <td>1995</td>\n",
       "      <td>1</td>\n",
       "      <td>B2</td>\n",
       "      <td>NaN</td>\n",
       "      <td>2017-06-30 00:00:00</td>\n",
       "    </tr>\n",
       "    <tr>\n",
       "      <th>84539</th>\n",
       "      <td>8405</td>\n",
       "      <td>5</td>\n",
       "      <td>WOODROW</td>\n",
       "      <td>02 TWO FAMILY DWELLINGS</td>\n",
       "      <td>1</td>\n",
       "      <td>7316</td>\n",
       "      <td>85</td>\n",
       "      <td></td>\n",
       "      <td>B2</td>\n",
       "      <td>137 DARNELL LANE</td>\n",
       "      <td>...</td>\n",
       "      <td>2</td>\n",
       "      <td>0</td>\n",
       "      <td>2</td>\n",
       "      <td>3016.0</td>\n",
       "      <td>1300.0</td>\n",
       "      <td>1995</td>\n",
       "      <td>1</td>\n",
       "      <td>B2</td>\n",
       "      <td>NaN</td>\n",
       "      <td>2016-12-30 00:00:00</td>\n",
       "    </tr>\n",
       "    <tr>\n",
       "      <th>84542</th>\n",
       "      <td>8408</td>\n",
       "      <td>5</td>\n",
       "      <td>WOODROW</td>\n",
       "      <td>02 TWO FAMILY DWELLINGS</td>\n",
       "      <td>1</td>\n",
       "      <td>7339</td>\n",
       "      <td>41</td>\n",
       "      <td></td>\n",
       "      <td>B9</td>\n",
       "      <td>41 SONIA COURT</td>\n",
       "      <td>...</td>\n",
       "      <td>2</td>\n",
       "      <td>0</td>\n",
       "      <td>2</td>\n",
       "      <td>3020.0</td>\n",
       "      <td>1800.0</td>\n",
       "      <td>1997</td>\n",
       "      <td>1</td>\n",
       "      <td>B9</td>\n",
       "      <td>NaN</td>\n",
       "      <td>2016-12-01 00:00:00</td>\n",
       "    </tr>\n",
       "  </tbody>\n",
       "</table>\n",
       "<p>14561 rows × 22 columns</p>\n",
       "</div>"
      ],
      "text/plain": [
       "       Unnamed: 0  BOROUGH   NEIGHBORHOOD  \\\n",
       "1               5        1  ALPHABET CITY   \n",
       "2               6        1  ALPHABET CITY   \n",
       "5               9        1  ALPHABET CITY   \n",
       "7              11        1  ALPHABET CITY   \n",
       "8              12        1  ALPHABET CITY   \n",
       "...           ...      ...            ...   \n",
       "84524        8390        5        WOODROW   \n",
       "84525        8391        5        WOODROW   \n",
       "84538        8404        5        WOODROW   \n",
       "84539        8405        5        WOODROW   \n",
       "84542        8408        5        WOODROW   \n",
       "\n",
       "                           BUILDING CLASS CATEGORY TAX CLASS AT PRESENT  \\\n",
       "1      07 RENTALS - WALKUP APARTMENTS                                 2   \n",
       "2      07 RENTALS - WALKUP APARTMENTS                                 2   \n",
       "5      07 RENTALS - WALKUP APARTMENTS                                 2   \n",
       "7      07 RENTALS - WALKUP APARTMENTS                                 2   \n",
       "8      08 RENTALS - ELEVATOR APARTMENTS                               2   \n",
       "...                                            ...                  ...   \n",
       "84524  02 TWO FAMILY DWELLINGS                                        1   \n",
       "84525  02 TWO FAMILY DWELLINGS                                        1   \n",
       "84538  02 TWO FAMILY DWELLINGS                                        1   \n",
       "84539  02 TWO FAMILY DWELLINGS                                        1   \n",
       "84542  02 TWO FAMILY DWELLINGS                                        1   \n",
       "\n",
       "       BLOCK  LOT EASE-MENT BUILDING CLASS AT PRESENT                 ADDRESS  \\\n",
       "1        399   26                                  C7   234 EAST 4TH   STREET   \n",
       "2        399   39                                  C7   197 EAST 3RD   STREET   \n",
       "5        405   16                                  C4  516 EAST 12TH   STREET   \n",
       "7        407   18                                  C7  520 EAST 14TH   STREET   \n",
       "8        379   34                                  D5            141 AVENUE D   \n",
       "...      ...  ...       ...                       ...                     ...   \n",
       "84524   7091   28                                  B9        51 CLAY PIT ROAD   \n",
       "84525   7091  188                                  B9       1576 WOODROW ROAD   \n",
       "84538   7316   61                                  B2        178 DARNELL LANE   \n",
       "84539   7316   85                                  B2        137 DARNELL LANE   \n",
       "84542   7339   41                                  B9          41 SONIA COURT   \n",
       "\n",
       "       ... RESIDENTIAL UNITS  COMMERCIAL UNITS  TOTAL UNITS  LAND SQUARE FEET  \\\n",
       "1      ...                28                 3           31            4616.0   \n",
       "2      ...                16                 1           17            2212.0   \n",
       "5      ...                20                 0           20            2581.0   \n",
       "7      ...                44                 2           46            5163.0   \n",
       "8      ...                15                 0           15            1534.0   \n",
       "...    ...               ...               ...          ...               ...   \n",
       "84524  ...                 2                 0            2            2986.0   \n",
       "84525  ...                 2                 0            2            2490.0   \n",
       "84538  ...                 2                 0            2            3215.0   \n",
       "84539  ...                 2                 0            2            3016.0   \n",
       "84542  ...                 2                 0            2            3020.0   \n",
       "\n",
       "       GROSS SQUARE FEET  YEAR BUILT  TAX CLASS AT TIME OF SALE  \\\n",
       "1                18690.0        1900                          2   \n",
       "2                 7803.0        1900                          2   \n",
       "5                 9730.0        1900                          2   \n",
       "7                21007.0        1900                          2   \n",
       "8                 9198.0        1920                          2   \n",
       "...                  ...         ...                        ...   \n",
       "84524             1820.0        1999                          1   \n",
       "84525             1530.0        1998                          1   \n",
       "84538             1300.0        1995                          1   \n",
       "84539             1300.0        1995                          1   \n",
       "84542             1800.0        1997                          1   \n",
       "\n",
       "       BUILDING CLASS AT TIME OF SALE  SALE PRICE            SALE DATE  \n",
       "1                                  C7         NaN  2016-12-14 00:00:00  \n",
       "2                                  C7         NaN  2016-12-09 00:00:00  \n",
       "5                                  C4         NaN  2017-07-20 00:00:00  \n",
       "7                                  C7         NaN  2017-07-20 00:00:00  \n",
       "8                                  D5         NaN  2017-06-20 00:00:00  \n",
       "...                               ...         ...                  ...  \n",
       "84524                              B9         NaN  2017-07-06 00:00:00  \n",
       "84525                              B9         NaN  2016-10-14 00:00:00  \n",
       "84538                              B2         NaN  2017-06-30 00:00:00  \n",
       "84539                              B2         NaN  2016-12-30 00:00:00  \n",
       "84542                              B9         NaN  2016-12-01 00:00:00  \n",
       "\n",
       "[14561 rows x 22 columns]"
      ]
     },
     "execution_count": 109,
     "metadata": {},
     "output_type": "execute_result"
    }
   ],
   "source": [
    "harga_null"
   ]
  },
  {
   "cell_type": "code",
   "execution_count": 110,
   "id": "7f67744e",
   "metadata": {},
   "outputs": [
    {
     "data": {
      "text/plain": [
       "Unnamed: 0                        14561\n",
       "BOROUGH                           14561\n",
       "NEIGHBORHOOD                      14561\n",
       "BUILDING CLASS CATEGORY           14561\n",
       "TAX CLASS AT PRESENT              14561\n",
       "BLOCK                             14561\n",
       "LOT                               14561\n",
       "EASE-MENT                         14561\n",
       "BUILDING CLASS AT PRESENT         14561\n",
       "ADDRESS                           14561\n",
       "APARTMENT NUMBER                  14561\n",
       "ZIP CODE                          14561\n",
       "RESIDENTIAL UNITS                 14561\n",
       "COMMERCIAL UNITS                  14561\n",
       "TOTAL UNITS                       14561\n",
       "LAND SQUARE FEET                   9497\n",
       "GROSS SQUARE FEET                  8688\n",
       "YEAR BUILT                        14561\n",
       "TAX CLASS AT TIME OF SALE         14561\n",
       "BUILDING CLASS AT TIME OF SALE    14561\n",
       "SALE PRICE                            0\n",
       "SALE DATE                         14561\n",
       "dtype: int64"
      ]
     },
     "execution_count": 110,
     "metadata": {},
     "output_type": "execute_result"
    }
   ],
   "source": [
    "harga_null.count()"
   ]
  },
  {
   "cell_type": "markdown",
   "id": "2a3105df",
   "metadata": {},
   "source": [
    "Pada data tersebut masih banyak yang bernilai null"
   ]
  },
  {
   "cell_type": "markdown",
   "id": "0a767f92",
   "metadata": {},
   "source": [
    "# Measure of Spread"
   ]
  },
  {
   "cell_type": "code",
   "execution_count": 111,
   "id": "edbd0069",
   "metadata": {},
   "outputs": [],
   "source": [
    "# Range\n",
    "range_harga = int(df[\"SALE PRICE\"].max() - df[\"SALE PRICE\"].min())"
   ]
  },
  {
   "cell_type": "code",
   "execution_count": 112,
   "id": "b0302f07",
   "metadata": {},
   "outputs": [
    {
     "data": {
      "text/plain": [
       "2210000000"
      ]
     },
     "execution_count": 112,
     "metadata": {},
     "output_type": "execute_result"
    }
   ],
   "source": [
    "range_harga"
   ]
  },
  {
   "cell_type": "code",
   "execution_count": 113,
   "id": "2166b0fe",
   "metadata": {},
   "outputs": [],
   "source": [
    "# Variance\n",
    "variance_harga = int(df[\"SALE PRICE\"].var())"
   ]
  },
  {
   "cell_type": "code",
   "execution_count": 114,
   "id": "e049e23b",
   "metadata": {},
   "outputs": [
    {
     "data": {
      "text/plain": [
       "130079849507240"
      ]
     },
     "execution_count": 114,
     "metadata": {},
     "output_type": "execute_result"
    }
   ],
   "source": [
    "variance_harga"
   ]
  },
  {
   "cell_type": "code",
   "execution_count": 115,
   "id": "e2e1406b",
   "metadata": {},
   "outputs": [],
   "source": [
    "# Standar Deviation\n",
    "std_dev_harga = int(df[\"SALE PRICE\"].std())"
   ]
  },
  {
   "cell_type": "code",
   "execution_count": 116,
   "id": "ed4f194f",
   "metadata": {},
   "outputs": [
    {
     "data": {
      "text/plain": [
       "11405255"
      ]
     },
     "execution_count": 116,
     "metadata": {},
     "output_type": "execute_result"
    }
   ],
   "source": [
    "std_dev_harga"
   ]
  },
  {
   "cell_type": "markdown",
   "id": "83bc97c6",
   "metadata": {},
   "source": [
    "# Probability Distribution"
   ]
  },
  {
   "cell_type": "code",
   "execution_count": 119,
   "id": "a257dd16",
   "metadata": {},
   "outputs": [
    {
     "data": {
      "text/plain": [
       "<function matplotlib.pyplot.show(close=None, block=None)>"
      ]
     },
     "execution_count": 119,
     "metadata": {},
     "output_type": "execute_result"
    },
    {
     "data": {
      "image/png": "[encoded data removed]",
      "text/plain": [
       "<Figure size 640x480 with 1 Axes>"
      ]
     },
     "metadata": {},
     "output_type": "display_data"
    }
   ],
   "source": [
    "# Analyze distribution and creating data\n",
    "sns.lineplot(data = properties_before_2000,\n",
    "            x = \"YEAR BUILT\",\n",
    "            y = \"SALE PRICE\",\n",
    "            hue = \"BOROUGH\")\n",
    "plt.show"
   ]
  },
  {
   "cell_type": "code",
   "execution_count": 120,
   "id": "fd7f8a7c",
   "metadata": {},
   "outputs": [
    {
     "data": {
      "text/plain": [
       "<function matplotlib.pyplot.show(close=None, block=None)>"
      ]
     },
     "execution_count": 120,
     "metadata": {},
     "output_type": "execute_result"
    },
    {
     "data": {
      "image/png": "[encoded data removed]",
      "text/plain": [
       "<Figure size 640x480 with 1 Axes>"
      ]
     },
     "metadata": {},
     "output_type": "display_data"
    }
   ],
   "source": [
    "# Analyze distribution and creating data\n",
    "sns.lineplot(data = properties_after_2000,\n",
    "            x = \"YEAR BUILT\",\n",
    "            y = \"SALE PRICE\",\n",
    "            hue = \"BOROUGH\")\n",
    "plt.show"
   ]
  },
  {
   "cell_type": "markdown",
   "id": "9cef4bbe",
   "metadata": {},
   "source": [
    "# Confidence Intervals"
   ]
  },
  {
   "cell_type": "code",
   "execution_count": 123,
   "id": "9390c258",
   "metadata": {},
   "outputs": [],
   "source": [
    "# Calculate Confidence Intervals for the mean sale price\n",
    "confidence_level = 0.95\n",
    "sample_size = len(df[\"SALE PRICE\"])\n",
    "standard_error = std_dev_harga / np.sqrt(sample_size)\n",
    "margin_of_error = stats.t.ppf((1 + confidence_level) / 2, df=sample_size -1) * standard_error\n",
    "confidence_interval = (mean_harga - margin_of_error, mean_harga + margin_of_error)"
   ]
  },
  {
   "cell_type": "code",
   "execution_count": 124,
   "id": "9cd724e6",
   "metadata": {},
   "outputs": [
    {
     "data": {
      "text/plain": [
       "(1199577.015383074, 1353334.984616926)"
      ]
     },
     "execution_count": 124,
     "metadata": {},
     "output_type": "execute_result"
    }
   ],
   "source": [
    "confidence_interval"
   ]
  },
  {
   "cell_type": "markdown",
   "id": "45b3603a",
   "metadata": {},
   "source": [
    "# Hypothesis Testing"
   ]
  },
  {
   "cell_type": "code",
   "execution_count": 126,
   "id": "0a7c4e97",
   "metadata": {},
   "outputs": [],
   "source": [
    "# Hypothesis Testing\n",
    "# Formulate and test the hypothesis about the mean sale price\n",
    "# Null Hypothesis (H0): The mean sale price is equal to a specific value\n",
    "# Alternative Hypothesis (H1): The mean sale price is not equal to that specific value\n",
    "\n",
    "# Replace with your specific hypothesis and test\n",
    "h0_mean = 1000000\n",
    "t_stat, p_value = stats.ttest_1samp(df['SALE PRICE'], h0_mean)"
   ]
  },
  {
   "cell_type": "code",
   "execution_count": 127,
   "id": "6d688452",
   "metadata": {},
   "outputs": [],
   "source": [
    "# Measure of Central Tendency: Mean for Unit Sales\n",
    "mean_units_before_2000 = properties_before_2000['TOTAL UNITS'].mean()\n",
    "mean_units_after_2000 = properties_after_2000['TOTAL UNITS'].mean()"
   ]
  },
  {
   "cell_type": "markdown",
   "id": "3eb6e250",
   "metadata": {},
   "source": [
    "# Conclusion"
   ]
  },
  {
   "cell_type": "code",
   "execution_count": 128,
   "id": "7aa8cca8",
   "metadata": {},
   "outputs": [
    {
     "name": "stdout",
     "output_type": "stream",
     "text": [
      "Fail to reject the null hypothesis\n"
     ]
    }
   ],
   "source": [
    "alpha = 0.05\n",
    "if p_value < alpha:\n",
    "    hypothesis_result = \"Reject the null hypothesis\"\n",
    "else:\n",
    "    hypothesis_result = \"Fail to reject the null hypothesis\"\n",
    "\n",
    "print(hypothesis_result)"
   ]
  },
  {
   "cell_type": "markdown",
   "id": "cc0ebc4d",
   "metadata": {},
   "source": [
    "# Display Result"
   ]
  },
  {
   "cell_type": "code",
   "execution_count": 129,
   "id": "331b2c57",
   "metadata": {},
   "outputs": [
    {
     "name": "stdout",
     "output_type": "stream",
     "text": [
      "Units Sold for Properties Built 1900-2000:\n",
      "Mean: 2.43\n",
      "\n",
      "Units Sold for Properties Built 2001 onwards:\n",
      "Mean: 2.20\n",
      "\n",
      "Hypothesis Test Result:\n",
      "T-statistic: nan\n",
      "P-value: nan\n"
     ]
    }
   ],
   "source": [
    "print(\"Units Sold for Properties Built 1900-2000:\")\n",
    "print(f\"Mean: {mean_units_before_2000:.2f}\")\n",
    "\n",
    "print(\"\\nUnits Sold for Properties Built 2001 onwards:\")\n",
    "print(f\"Mean: {mean_units_after_2000:.2f}\")\n",
    "\n",
    "print(\"\\nHypothesis Test Result:\")\n",
    "print(f\"T-statistic: {t_stat:.2f}\")\n",
    "print(f\"P-value: {p_value:.4f}\")"
   ]
  },
  {
   "cell_type": "code",
   "execution_count": null,
   "id": "f1c29c09",
   "metadata": {},
   "outputs": [],
   "source": []
  }
 ],
 "metadata": {
  "kernelspec": {
   "display_name": "Python 3 (ipykernel)",
   "language": "python",
   "name": "python3"
  },
  "language_info": {
   "codemirror_mode": {
    "name": "ipython",
    "version": 3
   },
   "file_extension": ".py",
   "mimetype": "text/x-python",
   "name": "python",
   "nbconvert_exporter": "python",
   "pygments_lexer": "ipython3",
   "version": "3.11.4"
  },
  "toc": {
   "base_numbering": 1,
   "nav_menu": {},
   "number_sections": true,
   "sideBar": true,
   "skip_h1_title": false,
   "title_cell": "Table of Contents",
   "title_sidebar": "Contents",
   "toc_cell": false,
   "toc_position": {},
   "toc_section_display": true,
   "toc_window_display": false
  },
  "varInspector": {
   "cols": {
    "lenName": 16,
    "lenType": 16,
    "lenVar": 40
   },
   "kernels_config": {
    "python": {
     "delete_cmd_postfix": "",
     "delete_cmd_prefix": "del ",
     "library": "var_list.py",
     "varRefreshCmd": "print(var_dic_list())"
    },
    "r": {
     "delete_cmd_postfix": ") ",
     "delete_cmd_prefix": "rm(",
     "library": "var_list.r",
     "varRefreshCmd": "cat(var_dic_list()) "
    }
   },
   "types_to_exclude": [
    "module",
    "function",
    "builtin_function_or_method",
    "instance",
    "_Feature"
   ],
   "window_display": false
  }
 },
 "nbformat": 4,
 "nbformat_minor": 5
}
