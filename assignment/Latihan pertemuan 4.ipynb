{
 "cells": [
  {
   "cell_type": "markdown",
   "id": "9d87de59",
   "metadata": {},
   "source": [
    "# M Aditya Darmawan (PYTN-KS18-01)"
   ]
  },
  {
   "cell_type": "markdown",
   "id": "1b545fa4",
   "metadata": {},
   "source": [
    "1. Sebuah array dengan perintah arrange yang nilai start end adalah input, array tersebut buat versi 2, dan 3 dimensinya"
   ]
  },
  {
   "cell_type": "code",
   "execution_count": 14,
   "id": "027e4451",
   "metadata": {},
   "outputs": [
    {
     "name": "stdout",
     "output_type": "stream",
     "text": [
      "Mulai : 1\n",
      "Selesai : 3\n",
      "Array 1 Dimensi: \n",
      "[1 2]\n",
      "Array 2 Dimensi: \n",
      "[[1]\n",
      " [2]]\n"
     ]
    },
    {
     "ename": "ValueError",
     "evalue": "cannot reshape array of size 2 into shape (3,2,newaxis)",
     "output_type": "error",
     "traceback": [
      "\u001b[0;31m---------------------------------------------------------------------------\u001b[0m",
      "\u001b[0;31mValueError\u001b[0m                                Traceback (most recent call last)",
      "Cell \u001b[0;32mIn[14], line 17\u001b[0m\n\u001b[1;32m     14\u001b[0m \u001b[38;5;28mprint\u001b[39m(arr2)\n\u001b[1;32m     16\u001b[0m \u001b[38;5;66;03m#Dimensi 3\u001b[39;00m\n\u001b[0;32m---> 17\u001b[0m arr3 \u001b[38;5;241m=\u001b[39m np\u001b[38;5;241m.\u001b[39marange(mulai, selesai)\u001b[38;5;241m.\u001b[39mreshape(\u001b[38;5;241m3\u001b[39m, \u001b[38;5;241m2\u001b[39m, \u001b[38;5;241m-\u001b[39m\u001b[38;5;241m1\u001b[39m)\n\u001b[1;32m     18\u001b[0m \u001b[38;5;28mprint\u001b[39m(\u001b[38;5;124m\"\u001b[39m\u001b[38;5;124mArray 3 Dimensi: \u001b[39m\u001b[38;5;124m\"\u001b[39m)\n\u001b[1;32m     19\u001b[0m \u001b[38;5;28mprint\u001b[39m(arr3)\n",
      "\u001b[0;31mValueError\u001b[0m: cannot reshape array of size 2 into shape (3,2,newaxis)"
     ]
    }
   ],
   "source": [
    "import numpy as np\n",
    "\n",
    "mulai = int(input(\"Mulai : \"))\n",
    "selesai = int(input(\"Selesai : \"))\n",
    "\n",
    "#Dimensi 1\n",
    "arr1 = np.arange(mulai, selesai)\n",
    "print(\"Array 1 Dimensi: \")\n",
    "print(arr1)\n",
    "\n",
    "#Dimensi 2\n",
    "arr2 = np.arange(mulai, selesai).reshape(2, -1)\n",
    "print(\"Array 2 Dimensi: \")\n",
    "print(arr2)\n",
    "\n",
    "#Dimensi 3\n",
    "arr3 = np.arange(mulai, selesai).reshape(3, 2, -1)\n",
    "print(\"Array 3 Dimensi: \")\n",
    "print(arr3)"
   ]
  },
  {
   "cell_type": "markdown",
   "id": "872f30f5",
   "metadata": {},
   "source": [
    "# No. 2"
   ]
  },
  {
   "cell_type": "code",
   "execution_count": 16,
   "id": "ecf5b1b2",
   "metadata": {},
   "outputs": [
    {
     "name": "stdout",
     "output_type": "stream",
     "text": [
      "Banyak Data: 6\n",
      "Mulai: 1\n",
      "Selesai : 3\n"
     ]
    },
    {
     "ename": "AttributeError",
     "evalue": "module 'numpy' has no attribute 'reverse'",
     "output_type": "error",
     "traceback": [
      "\u001b[0;31m---------------------------------------------------------------------------\u001b[0m",
      "\u001b[0;31mAttributeError\u001b[0m                            Traceback (most recent call last)",
      "Cell \u001b[0;32mIn[16], line 15\u001b[0m\n\u001b[1;32m     12\u001b[0m array_2d \u001b[38;5;241m=\u001b[39m array_1d\u001b[38;5;241m.\u001b[39mreshape(\u001b[38;5;241m-\u001b[39m\u001b[38;5;241m1\u001b[39m, \u001b[38;5;241m1\u001b[39m)\n\u001b[1;32m     14\u001b[0m \u001b[38;5;66;03m# Membalik urutan\u001b[39;00m\n\u001b[0;32m---> 15\u001b[0m array_2d \u001b[38;5;241m=\u001b[39m np\u001b[38;5;241m.\u001b[39mreverse(array_2d, axis\u001b[38;5;241m=\u001b[39m\u001b[38;5;241m1\u001b[39m)\n\u001b[1;32m     17\u001b[0m \u001b[38;5;28mprint\u001b[39m(\u001b[38;5;124m\"\u001b[39m\u001b[38;5;124mApabila ututannya dibalik maka:\u001b[39m\u001b[38;5;124m\"\u001b[39m)\n\u001b[1;32m     18\u001b[0m \u001b[38;5;28mprint\u001b[39m(array_2d)\n",
      "File \u001b[0;32m~/anaconda3/lib/python3.11/site-packages/numpy/__init__.py:320\u001b[0m, in \u001b[0;36m__getattr__\u001b[0;34m(attr)\u001b[0m\n\u001b[1;32m    317\u001b[0m     \u001b[38;5;28;01mfrom\u001b[39;00m \u001b[38;5;21;01m.\u001b[39;00m\u001b[38;5;21;01mtesting\u001b[39;00m \u001b[38;5;28;01mimport\u001b[39;00m Tester\n\u001b[1;32m    318\u001b[0m     \u001b[38;5;28;01mreturn\u001b[39;00m Tester\n\u001b[0;32m--> 320\u001b[0m \u001b[38;5;28;01mraise\u001b[39;00m \u001b[38;5;167;01mAttributeError\u001b[39;00m(\u001b[38;5;124m\"\u001b[39m\u001b[38;5;124mmodule \u001b[39m\u001b[38;5;132;01m{!r}\u001b[39;00m\u001b[38;5;124m has no attribute \u001b[39m\u001b[38;5;124m\"\u001b[39m\n\u001b[1;32m    321\u001b[0m                      \u001b[38;5;124m\"\u001b[39m\u001b[38;5;132;01m{!r}\u001b[39;00m\u001b[38;5;124m\"\u001b[39m\u001b[38;5;241m.\u001b[39mformat(\u001b[38;5;18m__name__\u001b[39m, attr))\n",
      "\u001b[0;31mAttributeError\u001b[0m: module 'numpy' has no attribute 'reverse'"
     ]
    }
   ],
   "source": [
    "import numpy as np\n",
    "\n",
    "n = int(input(\"Banyak Data: \"))\n",
    "mulai = int(input(\"Mulai: \"))\n",
    "selesai = int(input(\"Selesai : \"))\n",
    "\n",
    "\n",
    "#1 dimensi\n",
    "array_1d = np.random.randint(mulai, selesai + 1, n)\n",
    "\n",
    "#2 dimensi\n",
    "array_2d = array_1d.reshape(-1, 1)\n",
    "\n",
    "# Membalik urutan\n",
    "array_2d = np.reverse(array_2d, axis=1)\n",
    "\n",
    "print(\"Apabila ututannya dibalik maka:\")\n",
    "print(array_2d)\n"
   ]
  },
  {
   "cell_type": "code",
   "execution_count": null,
   "id": "b673a6b7",
   "metadata": {},
   "outputs": [],
   "source": []
  }
 ],
 "metadata": {
  "kernelspec": {
   "display_name": "Python 3 (ipykernel)",
   "language": "python",
   "name": "python3"
  },
  "language_info": {
   "codemirror_mode": {
    "name": "ipython",
    "version": 3
   },
   "file_extension": ".py",
   "mimetype": "text/x-python",
   "name": "python",
   "nbconvert_exporter": "python",
   "pygments_lexer": "ipython3",
   "version": "3.11.4"
  }
 },
 "nbformat": 4,
 "nbformat_minor": 5
}
