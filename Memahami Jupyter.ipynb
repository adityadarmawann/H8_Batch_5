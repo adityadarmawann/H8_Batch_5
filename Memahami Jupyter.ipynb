{
 "cells": [
  {
   "cell_type": "markdown",
   "id": "cc4fa601",
   "metadata": {},
   "source": [
    "# Pass Value to and from shell"
   ]
  },
  {
   "cell_type": "code",
   "execution_count": 1,
   "id": "25ebcb55",
   "metadata": {},
   "outputs": [
    {
     "name": "stdout",
     "output_type": "stream",
     "text": [
      "['Basic Introduction.ipynb', 'Memahami Jupyter.ipynb']\n"
     ]
    }
   ],
   "source": [
    "files = !ls\n",
    "print(files)"
   ]
  },
  {
   "cell_type": "code",
   "execution_count": null,
   "id": "3ad133f7",
   "metadata": {},
   "outputs": [],
   "source": []
  }
 ],
 "metadata": {
  "kernelspec": {
   "display_name": "Python 3 (ipykernel)",
   "language": "python",
   "name": "python3"
  },
  "language_info": {
   "codemirror_mode": {
    "name": "ipython",
    "version": 3
   },
   "file_extension": ".py",
   "mimetype": "text/x-python",
   "name": "python",
   "nbconvert_exporter": "python",
   "pygments_lexer": "ipython3",
   "version": "3.11.4"
  }
 },
 "nbformat": 4,
 "nbformat_minor": 5
}
