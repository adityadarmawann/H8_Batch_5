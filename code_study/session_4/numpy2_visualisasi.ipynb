{
 "cells": [
  {
   "cell_type": "markdown",
   "id": "49f87c3b",
   "metadata": {},
   "source": [
    "# Aljabar Liniear"
   ]
  },
  {
   "cell_type": "code",
   "execution_count": 5,
   "id": "a231b884",
   "metadata": {},
   "outputs": [],
   "source": [
    "import numpy as np"
   ]
  },
  {
   "cell_type": "code",
   "execution_count": 12,
   "id": "9401a154",
   "metadata": {},
   "outputs": [
    {
     "data": {
      "text/plain": [
       "array([10000.,  2500.,  5000.,  3000.])"
      ]
     },
     "execution_count": 12,
     "metadata": {},
     "output_type": "execute_result"
    }
   ],
   "source": [
    "orders = np.array([\n",
    "    [2,0,0,0],\n",
    "    [1,0,2,4],\n",
    "    [1,2,1,0],\n",
    "    [4,6,0,2]\n",
    "])\n",
    "totals = np.array([20000, 32000, 20000, 61000])\n",
    "prices = np.linalg.solve(orders,totals)   #linalg = linier algebra\n",
    "prices"
   ]
  },
  {
   "cell_type": "code",
   "execution_count": 11,
   "id": "cae06200",
   "metadata": {},
   "outputs": [
    {
     "data": {
      "text/plain": [
       "array([20000., 32000., 20000., 61000.])"
      ]
     },
     "execution_count": 11,
     "metadata": {},
     "output_type": "execute_result"
    }
   ],
   "source": [
    "orders @ prices"
   ]
  },
  {
   "cell_type": "markdown",
   "id": "cc296f4c",
   "metadata": {},
   "source": [
    "# Fungsi Universal"
   ]
  },
  {
   "cell_type": "code",
   "execution_count": 13,
   "id": "0780006e",
   "metadata": {},
   "outputs": [],
   "source": [
    "a, b = np.split(np.arange(1,11), 2) "
   ]
  },
  {
   "cell_type": "code",
   "execution_count": 14,
   "id": "f4bb196e",
   "metadata": {},
   "outputs": [
    {
     "data": {
      "text/plain": [
       "(array([1, 2, 3, 4, 5]), array([ 6,  7,  8,  9, 10]))"
      ]
     },
     "execution_count": 14,
     "metadata": {},
     "output_type": "execute_result"
    }
   ],
   "source": [
    "a,b"
   ]
  },
  {
   "cell_type": "code",
   "execution_count": 15,
   "id": "32f07e8a",
   "metadata": {},
   "outputs": [
    {
     "data": {
      "text/plain": [
       "array([ 7,  9, 11, 13, 15])"
      ]
     },
     "execution_count": 15,
     "metadata": {},
     "output_type": "execute_result"
    }
   ],
   "source": [
    "a +b"
   ]
  },
  {
   "cell_type": "code",
   "execution_count": 16,
   "id": "7f8f28f4",
   "metadata": {},
   "outputs": [
    {
     "data": {
      "text/plain": [
       "array([5, 5, 5, 5, 5])"
      ]
     },
     "execution_count": 16,
     "metadata": {},
     "output_type": "execute_result"
    }
   ],
   "source": [
    "b -a "
   ]
  },
  {
   "cell_type": "code",
   "execution_count": 17,
   "id": "95b18e20",
   "metadata": {},
   "outputs": [
    {
     "data": {
      "text/plain": [
       "array([3, 4, 5, 6, 7])"
      ]
     },
     "execution_count": 17,
     "metadata": {},
     "output_type": "execute_result"
    }
   ],
   "source": [
    "a + 2"
   ]
  },
  {
   "cell_type": "code",
   "execution_count": 18,
   "id": "efd507be",
   "metadata": {},
   "outputs": [
    {
     "data": {
      "text/plain": [
       "array([3, 4, 5, 6, 7])"
      ]
     },
     "execution_count": 18,
     "metadata": {},
     "output_type": "execute_result"
    }
   ],
   "source": [
    "a + np.repeat(2,5)"
   ]
  },
  {
   "cell_type": "code",
   "execution_count": 19,
   "id": "d1ce0276",
   "metadata": {},
   "outputs": [],
   "source": [
    "# fungsi universal bisa dilihat di docs.scipy.org"
   ]
  },
  {
   "cell_type": "markdown",
   "id": "792b7fcb",
   "metadata": {},
   "source": [
    "### contoh latian "
   ]
  },
  {
   "cell_type": "code",
   "execution_count": 24,
   "id": "86709f41",
   "metadata": {},
   "outputs": [
    {
     "data": {
      "text/plain": [
       "(array([[0., 1., 2.],\n",
       "        [3., 4., 5.],\n",
       "        [6., 7., 8.]]),\n",
       " array([0., 1., 2.]))"
      ]
     },
     "execution_count": 24,
     "metadata": {},
     "output_type": "execute_result"
    }
   ],
   "source": [
    "x1 = np.arange(9.0). reshape((3,3))\n",
    "x2 = np.arange(3.0)\n",
    "x1,x2"
   ]
  },
  {
   "cell_type": "code",
   "execution_count": 25,
   "id": "bc567935",
   "metadata": {},
   "outputs": [
    {
     "data": {
      "text/plain": [
       "array([[ 0.,  2.,  4.],\n",
       "       [ 3.,  5.,  7.],\n",
       "       [ 6.,  8., 10.]])"
      ]
     },
     "execution_count": 25,
     "metadata": {},
     "output_type": "execute_result"
    }
   ],
   "source": [
    "np.add(x1,x2)"
   ]
  },
  {
   "cell_type": "code",
   "execution_count": 27,
   "id": "b9a9aa2a",
   "metadata": {},
   "outputs": [
    {
     "data": {
      "text/plain": [
       "array([[ 2.,  3.,  4.],\n",
       "       [ 5.,  6.,  7.],\n",
       "       [ 8.,  9., 10.]])"
      ]
     },
     "execution_count": 27,
     "metadata": {},
     "output_type": "execute_result"
    }
   ],
   "source": [
    "np.add(x1, 2)"
   ]
  },
  {
   "cell_type": "markdown",
   "id": "7bbc7605",
   "metadata": {},
   "source": [
    "# Operasi MAtrix Lainnya"
   ]
  },
  {
   "cell_type": "code",
   "execution_count": 3,
   "id": "49d2d789",
   "metadata": {},
   "outputs": [],
   "source": [
    "# lanjut di numpy 1 lagi"
   ]
  }
 ],
 "metadata": {
  "kernelspec": {
   "display_name": "Python 3 (ipykernel)",
   "language": "python",
   "name": "python3"
  },
  "language_info": {
   "codemirror_mode": {
    "name": "ipython",
    "version": 3
   },
   "file_extension": ".py",
   "mimetype": "text/x-python",
   "name": "python",
   "nbconvert_exporter": "python",
   "pygments_lexer": "ipython3",
   "version": "3.11.4"
  }
 },
 "nbformat": 4,
 "nbformat_minor": 5
}
