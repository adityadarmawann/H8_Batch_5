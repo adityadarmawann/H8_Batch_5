{
  "nbformat": 4,
  "nbformat_minor": 0,
  "metadata": {
    "colab": {
      "provenance": []
    },
    "kernelspec": {
      "name": "python3",
      "display_name": "Python 3"
    },
    "language_info": {
      "name": "python"
    }
  },
  "cells": [
    {
      "cell_type": "code",
      "execution_count": 3,
      "metadata": {
        "colab": {
          "base_uri": "https://localhost:8080/"
        },
        "id": "d6D5Sc3GQ0Vf",
        "outputId": "2ce48527-6fe5-4161-eafe-74cb431e28a4"
      },
      "outputs": [
        {
          "output_type": "stream",
          "name": "stdout",
          "text": [
            "Ketikan temperatur yang akan di konversi (eg: 40F, 122C) :45F\n",
            "Temperaturnya adalah  7 derajat\n"
          ]
        }
      ],
      "source": [
        "temp = input(\"Ketikan temperatur yang akan di konversi (eg: 40F, 122C) :\")\n",
        "degree = int(temp[:-1])\n",
        "i_convertion = temp[-1]\n",
        "\n",
        "if i_convertion == \"C\":\n",
        "    result = int(round((9 * degree) / 5 + 32))\n",
        "elif i_convertion == \"F\":\n",
        "    result = int(round((degree - 32) * 5/9 ))\n",
        "else:\n",
        "    print(\"masukan input yang benar!\")\n",
        "print(\"Temperaturnya adalah \", result, \"derajat\")"
      ]
    },
    {
      "cell_type": "code",
      "source": [
        "while True:\n",
        "  msg = input(\"ketikan karakter: \").lower()\n",
        "  print(msg)\n",
        "  if msg == \"stop\":\n",
        "    break"
      ],
      "metadata": {
        "colab": {
          "base_uri": "https://localhost:8080/"
        },
        "id": "w7ZnJ8xEQ7C-",
        "outputId": "7f52191b-f672-40bb-c751-3db8bc51afff"
      },
      "execution_count": 4,
      "outputs": [
        {
          "output_type": "stream",
          "name": "stdout",
          "text": [
            "ketikan karakter: ht\n",
            "ht\n",
            "ketikan karakter: yu\n",
            "yu\n",
            "ketikan karakter: dtop\n",
            "dtop\n",
            "ketikan karakter: stop\n",
            "stop\n"
          ]
        }
      ]
    },
    {
      "cell_type": "code",
      "source": [],
      "metadata": {
        "id": "U1L_OTRNR2vX"
      },
      "execution_count": null,
      "outputs": []
    }
  ]
}