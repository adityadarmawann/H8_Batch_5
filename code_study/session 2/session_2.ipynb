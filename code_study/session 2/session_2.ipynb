{
 "cells": [
  {
   "cell_type": "code",
   "execution_count": null,
   "id": "dc2d38d9",
   "metadata": {
    "id": "dc2d38d9",
    "outputId": "35d492ce-098f-4479-f8fd-5a62d8ea80d3"
   },
   "outputs": [
    {
     "name": "stdout",
     "output_type": "stream",
     "text": [
      "right!\n",
      "benar\n"
     ]
    }
   ],
   "source": [
    "a = 1\n",
    "b = 7\n",
    "\n",
    "if a < b:\n",
    "    print('right!')\n",
    "\n",
    "if b < a:\n",
    "    print('right!')\n",
    "\n",
    "if b:\n",
    "    print('benar')"
   ]
  },
  {
   "cell_type": "markdown",
   "id": "2ee8022f",
   "metadata": {
    "id": "2ee8022f"
   },
   "source": [
    "# Else If Clauses"
   ]
  },
  {
   "cell_type": "code",
   "execution_count": null,
   "id": "7771d712",
   "metadata": {
    "id": "7771d712",
    "outputId": "daf0f787-0e00-461e-ad5d-e2a7d9218f0f"
   },
   "outputs": [
    {
     "name": "stdout",
     "output_type": "stream",
     "text": [
      "belum bisa bayar\n"
     ]
    }
   ],
   "source": [
    "uang = 20\n",
    "ukt = 1000\n",
    "\n",
    "if uang >= ukt:\n",
    "    print('bisa bayar')\n",
    "else:\n",
    "    print('belum bisa bayar')"
   ]
  },
  {
   "cell_type": "code",
   "execution_count": null,
   "id": "aa7b1204",
   "metadata": {
    "id": "aa7b1204",
    "outputId": "3a21a6a7-bfbc-4c92-a46b-82427e9ea373"
   },
   "outputs": [
    {
     "name": "stdout",
     "output_type": "stream",
     "text": [
      "bisa bayar\n"
     ]
    }
   ],
   "source": [
    "uang = 2000\n",
    "ukt = 1000\n",
    "\n",
    "if uang >= ukt:\n",
    "    print('bisa bayar')\n",
    "else:\n",
    "    print('belum bisa bayar')"
   ]
  },
  {
   "cell_type": "code",
   "execution_count": null,
   "id": "a7b6aeb2",
   "metadata": {
    "id": "a7b6aeb2",
    "outputId": "52518e0e-05e3-48f5-bd9b-45a2ae1ca85d"
   },
   "outputs": [
    {
     "name": "stdout",
     "output_type": "stream",
     "text": [
      "bisa bayar\n"
     ]
    }
   ],
   "source": [
    "uang = 1000\n",
    "ukt = 1000\n",
    "\n",
    "if uang >= ukt:\n",
    "    print('bisa bayar')\n",
    "\n",
    "elif uang < ukt:\n",
    "    print('tak bisa bayar')\n"
   ]
  },
  {
   "cell_type": "markdown",
   "id": "d9e8d382",
   "metadata": {
    "id": "d9e8d382"
   },
   "source": [
    "# One-Line if Statements"
   ]
  },
  {
   "cell_type": "code",
   "execution_count": null,
   "id": "35ee39aa",
   "metadata": {
    "id": "35ee39aa",
    "outputId": "b1fcb49a-8449-4e07-f64f-0dfa21056dd4"
   },
   "outputs": [
    {
     "name": "stdout",
     "output_type": "stream",
     "text": [
      "1\n",
      "2\n",
      "3\n"
     ]
    }
   ],
   "source": [
    "if 'a' in 'aditya' : print(1); print(2); print('3')"
   ]
  },
  {
   "cell_type": "code",
   "execution_count": null,
   "id": "08a3aafd",
   "metadata": {
    "id": "08a3aafd",
    "outputId": "b7055cac-e8a9-408e-9138-14d9b4feee53"
   },
   "outputs": [
    {
     "name": "stdout",
     "output_type": "stream",
     "text": [
      "yes\n",
      "right\n",
      "beb\n"
     ]
    }
   ],
   "source": [
    "a = 8\n",
    "\n",
    "if a >= 7: print('yes'); print('right'); print('beb')\n",
    "elif x == 2: print('kicil'); print('bingits')"
   ]
  },
  {
   "cell_type": "markdown",
   "id": "7e050b09",
   "metadata": {
    "id": "7e050b09"
   },
   "source": [
    "# Conditional Expression Ternary Operator"
   ]
  },
  {
   "cell_type": "code",
   "execution_count": null,
   "id": "9893bc9a",
   "metadata": {
    "id": "9893bc9a",
    "outputId": "6f03ee51-10e7-4e2b-98e2-6b0dc8e9615d"
   },
   "outputs": [
    {
     "name": "stdout",
     "output_type": "stream",
     "text": [
      "let's go to the hill\n"
     ]
    }
   ],
   "source": [
    "sunny = True\n",
    "print(\"let's go to the\", \"hill\" if sunny else \"plaza\")"
   ]
  },
  {
   "cell_type": "code",
   "execution_count": null,
   "id": "babca872",
   "metadata": {
    "id": "babca872",
    "outputId": "0d7a52ee-0e55-48fa-bc66-f4aa04395e7f"
   },
   "outputs": [
    {
     "name": "stdout",
     "output_type": "stream",
     "text": [
      "let's go to the plaza\n"
     ]
    }
   ],
   "source": [
    "sunny = False\n",
    "print(\"let's go to the\", \"hill\" if sunny else \"plaza\")"
   ]
  },
  {
   "cell_type": "code",
   "execution_count": null,
   "id": "29bb456b",
   "metadata": {
    "id": "29bb456b",
    "outputId": "859dcc88-8238-4417-be4f-5dece3a3ef39"
   },
   "outputs": [
    {
     "data": {
      "text/plain": [
       "'adult'"
      ]
     },
     "execution_count": 9,
     "metadata": {},
     "output_type": "execute_result"
    }
   ],
   "source": [
    "age = 20\n",
    "x = 'teen' if age <19 else 'adult'\n",
    "x"
   ]
  },
  {
   "cell_type": "markdown",
   "id": "5d68b167",
   "metadata": {
    "id": "5d68b167"
   },
   "source": [
    "# The Python Pass Statement"
   ]
  },
  {
   "cell_type": "code",
   "execution_count": null,
   "id": "3a100e42",
   "metadata": {
    "id": "3a100e42",
    "outputId": "2d586c63-7516-4274-92d2-39a2d8fd0e47"
   },
   "outputs": [
    {
     "ename": "IndentationError",
     "evalue": "expected an indented block after 'if' statement on line 1 (3474547535.py, line 2)",
     "output_type": "error",
     "traceback": [
      "\u001b[0;36m  Cell \u001b[0;32mIn[11], line 2\u001b[0;36m\u001b[0m\n\u001b[0;31m    print('foo')\u001b[0m\n\u001b[0m    ^\u001b[0m\n\u001b[0;31mIndentationError\u001b[0m\u001b[0;31m:\u001b[0m expected an indented block after 'if' statement on line 1\n"
     ]
    }
   ],
   "source": [
    "if True:\n",
    "print('foo')"
   ]
  },
  {
   "cell_type": "code",
   "execution_count": null,
   "id": "97ee71a0",
   "metadata": {
    "id": "97ee71a0",
    "outputId": "d25102ad-50fc-4e06-c73b-0b786e905155"
   },
   "outputs": [
    {
     "name": "stdout",
     "output_type": "stream",
     "text": [
      "foo\n"
     ]
    }
   ],
   "source": [
    "if True:\n",
    "    pass\n",
    "\n",
    "print('foo')"
   ]
  },
  {
   "cell_type": "markdown",
   "id": "218e7f9b",
   "metadata": {
    "id": "218e7f9b"
   },
   "source": [
    "# Python While Loops"
   ]
  },
  {
   "cell_type": "code",
   "execution_count": null,
   "id": "7fb81b94",
   "metadata": {
    "id": "7fb81b94",
    "outputId": "5799dac9-de97-48bc-ab3f-cd223032a1e9"
   },
   "outputs": [
    {
     "name": "stdout",
     "output_type": "stream",
     "text": [
      "8\n",
      "7\n",
      "6\n",
      "5\n"
     ]
    }
   ],
   "source": [
    "n = 9\n",
    "while n > 5:\n",
    "    n -= 1\n",
    "    print(n)"
   ]
  },
  {
   "cell_type": "code",
   "execution_count": null,
   "id": "ecb90d7c",
   "metadata": {
    "id": "ecb90d7c",
    "outputId": "10b23207-3cbf-488f-a2d3-46ff5e24e764"
   },
   "outputs": [
    {
     "name": "stdout",
     "output_type": "stream",
     "text": [
      "0\n",
      "1\n",
      "2\n",
      "3\n",
      "4\n",
      "5\n",
      "6\n",
      "7\n",
      "8\n"
     ]
    }
   ],
   "source": [
    "n = 0\n",
    "while n < 9:\n",
    "    print(n)\n",
    "    n += 1"
   ]
  },
  {
   "cell_type": "markdown",
   "id": "978e4b07",
   "metadata": {
    "id": "978e4b07"
   },
   "source": [
    "## The Python Break and Continue Statements"
   ]
  },
  {
   "cell_type": "code",
   "execution_count": null,
   "id": "49bbc7f1",
   "metadata": {
    "id": "49bbc7f1",
    "outputId": "bd3f2b42-b2db-48dc-ca3e-4d7bd9bc1b0d"
   },
   "outputs": [
    {
     "name": "stdout",
     "output_type": "stream",
     "text": [
      "6\n",
      "5\n",
      "4\n",
      "3\n",
      "loop ended.\n"
     ]
    }
   ],
   "source": [
    "a = 7\n",
    "while a > 0:\n",
    "    a -= 1\n",
    "    if a == 2:\n",
    "        break\n",
    "    print(a)\n",
    "print('loop ended.')"
   ]
  },
  {
   "cell_type": "code",
   "execution_count": null,
   "id": "d2497f07",
   "metadata": {
    "id": "d2497f07",
    "outputId": "0b671fc1-2937-4e06-fef8-8923cc9f83b2"
   },
   "outputs": [
    {
     "name": "stdout",
     "output_type": "stream",
     "text": [
      "6\n",
      "5\n",
      "4\n",
      "3\n",
      "1\n",
      "0\n",
      "loop done.\n"
     ]
    }
   ],
   "source": [
    "a = 7\n",
    "while a > 0:\n",
    "    a -= 1\n",
    "    if a == 2:\n",
    "        continue\n",
    "    print(a)\n",
    "print('loop done.')"
   ]
  },
  {
   "cell_type": "markdown",
   "id": "4fca4902",
   "metadata": {
    "id": "4fca4902"
   },
   "source": [
    "# The Else Clause"
   ]
  },
  {
   "cell_type": "code",
   "execution_count": null,
   "id": "94581d79",
   "metadata": {
    "id": "94581d79",
    "outputId": "e2e5ff56-592c-4c87-e91d-18260ca906ff"
   },
   "outputs": [
    {
     "name": "stdout",
     "output_type": "stream",
     "text": [
      "10\n",
      "9\n",
      "8\n",
      "7\n",
      "6\n",
      "5\n",
      "4\n",
      "3\n",
      "2\n",
      "1\n",
      "0\n",
      "loopingnya udah.\n"
     ]
    }
   ],
   "source": [
    "b = 11\n",
    "while b > 0:\n",
    "    b -= 1\n",
    "    print(b)\n",
    "else:\n",
    "    print('loopingnya udah.')"
   ]
  },
  {
   "cell_type": "code",
   "execution_count": null,
   "id": "df6c9ae6",
   "metadata": {
    "id": "df6c9ae6",
    "outputId": "e3aa6a70-c5db-4beb-a7bf-a755260d12aa"
   },
   "outputs": [
    {
     "name": "stdout",
     "output_type": "stream",
     "text": [
      "10\n",
      "9\n",
      "8\n",
      "7\n",
      "6\n",
      "5\n",
      "4\n",
      "3\n"
     ]
    }
   ],
   "source": [
    "b = 11\n",
    "while b > 0:\n",
    "    b -= 1\n",
    "    print(b)\n",
    "    if b == 3:\n",
    "        break\n",
    "else:\n",
    "    print('loopingnya terhenti :p')"
   ]
  },
  {
   "cell_type": "markdown",
   "id": "e505a913",
   "metadata": {
    "id": "e505a913"
   },
   "source": [
    "# Infinite Loops"
   ]
  },
  {
   "cell_type": "code",
   "execution_count": 5,
   "id": "d4uUYVt1C0Sp",
   "metadata": {
    "id": "d4uUYVt1C0Sp"
   },
   "outputs": [],
   "source": [
    "# while True:\n",
    "  #print('doo')\n",
    "  #tidak dijalankan karena pengulangannya akan terus terjadi\n"
   ]
  },
  {
   "cell_type": "markdown",
   "id": "14679fdc",
   "metadata": {
    "id": "14679fdc"
   },
   "source": [
    "### Additional aku"
   ]
  },
  {
   "cell_type": "code",
   "execution_count": null,
   "id": "15136263",
   "metadata": {
    "id": "15136263",
    "outputId": "077358f7-be1d-4e69-9347-6eba019e7cce"
   },
   "outputs": [
    {
     "name": "stdout",
     "output_type": "stream",
     "text": [
      "wkwkwkwkwkwkwkwkwkwkwkwkwkwkwkwkwkwkwkwkwkwkwkwkwkwkwkwkwkwkwkwkwkwkwkwkwkwkwkwkwkwkwkwkwkwkwkwkwkwkwkwkwkwkwkwkwkwkwkwkwkwkwkwkwkwkwkwkwkwkwkwkwkwkwkwkwkwkwkwkwkwkwkwkwkwkwkwkwkwkwkwkwkwkwkwkwkwkwkwkwkwkwkwkwkwkwkwkwkwkwkwkwkwkwkwkwkwkwkwkwkwkwkwkwkwkwkwkwkwkwkwkwkwkwkwkwkwkwkwkwkwkwkwkwkwkwkwkwkwkwkwkwkwkwkwkwkwkwkwkwkwkwkwkwkwkwkwkwkwkwkwkwkwkwkwkwkwkwkwkwkwkwkwkwkwkwkwkwkwkwkwkwkwkwkwkwkwkwkwk\n"
     ]
    }
   ],
   "source": [
    "print(100 * \"wkwk\")"
   ]
  },
  {
   "cell_type": "markdown",
   "id": "0c6d06af",
   "metadata": {
    "id": "0c6d06af"
   },
   "source": [
    "# Nested While Loops"
   ]
  },
  {
   "cell_type": "code",
   "execution_count": null,
   "id": "ce792e37",
   "metadata": {
    "id": "ce792e37",
    "outputId": "cecf1d11-1be7-4e41-fa55-b364b120f5d1"
   },
   "outputs": [
    {
     "name": "stdout",
     "output_type": "stream",
     "text": [
      "son\n"
     ]
    }
   ],
   "source": [
    "age = 13\n",
    "gender = 'M'\n",
    "\n",
    "if age < 16:\n",
    "    if gender == 'M':\n",
    "        print('son')\n",
    "    else:\n",
    "        print('doughter')\n",
    "elif age >= 16 and age < 60:\n",
    "    if gender == 'M':\n",
    "        print('father')\n",
    "    else:\n",
    "        print('mother')\n",
    "else:\n",
    "    if gender == 'M':\n",
    "        print ('grandfather')\n",
    "    else:\n",
    "        print('grandmother')"
   ]
  },
  {
   "cell_type": "code",
   "execution_count": null,
   "id": "a9d116da",
   "metadata": {
    "id": "a9d116da",
    "outputId": "255e58db-9fc0-4931-fcac-ab56d516b959"
   },
   "outputs": [
    {
     "name": "stdout",
     "output_type": "stream",
     "text": [
      "mother\n"
     ]
    }
   ],
   "source": [
    "age = 45\n",
    "gender = 'F'\n",
    "\n",
    "if age < 16:\n",
    "    if gender == 'M':\n",
    "        print('son')\n",
    "    else:\n",
    "        print('doughter')\n",
    "elif age >= 16 and age < 60:\n",
    "    if gender == 'M':\n",
    "        print('father')\n",
    "    else:\n",
    "        print('mother')\n",
    "else:\n",
    "    if gender == 'M':\n",
    "        print ('grandfather')\n",
    "    else:\n",
    "        print('grandmother')"
   ]
  },
  {
   "cell_type": "code",
   "execution_count": null,
   "id": "74a0723e",
   "metadata": {
    "id": "74a0723e",
    "outputId": "05232f96-22ab-43b8-d146-18c390998c46"
   },
   "outputs": [
    {
     "name": "stdout",
     "output_type": "stream",
     "text": [
      "grandfather\n"
     ]
    }
   ],
   "source": [
    "age = 80\n",
    "gender = 'M'\n",
    "\n",
    "if age < 16:\n",
    "    if gender == 'M':\n",
    "        print('son')\n",
    "    else:\n",
    "        print('doughter')\n",
    "elif age >= 16 and age < 60:\n",
    "    if gender == 'M':\n",
    "        print('father')\n",
    "    else:\n",
    "        print('mother')\n",
    "else:\n",
    "    if gender == 'M':\n",
    "        print ('grandfather')\n",
    "    else:\n",
    "        print('grandmother')"
   ]
  },
  {
   "cell_type": "code",
   "execution_count": null,
   "id": "467a9280",
   "metadata": {
    "id": "467a9280",
    "outputId": "96f7e530-77fa-451f-9495-f362dd4ddb27"
   },
   "outputs": [
    {
     "name": "stdout",
     "output_type": "stream",
     "text": [
      "aku\n",
      "> dai\n",
      "> go\n",
      "kamu\n",
      "> dai\n",
      "> go\n"
     ]
    }
   ],
   "source": [
    "b = ['aku', 'kamu']\n",
    "\n",
    "while len(b):\n",
    "    print(b.pop(0))\n",
    "\n",
    "    v = ['dai', 'go']\n",
    "\n",
    "    while len(v):\n",
    "        print('>',v.pop(0))"
   ]
  },
  {
   "cell_type": "markdown",
   "id": "4fef535d",
   "metadata": {
    "id": "4fef535d"
   },
   "source": [
    "# One-Line While Loops"
   ]
  },
  {
   "cell_type": "code",
   "execution_count": null,
   "id": "caaa4236",
   "metadata": {
    "id": "caaa4236",
    "outputId": "93bb3b03-903e-4058-df08-856d307c8260"
   },
   "outputs": [
    {
     "name": "stdout",
     "output_type": "stream",
     "text": [
      "5\n",
      "4\n",
      "3\n",
      "2\n",
      "1\n",
      "0\n"
     ]
    }
   ],
   "source": [
    "g = 6\n",
    "while g > 0:\n",
    "    g -= 1\n",
    "    print(g)"
   ]
  },
  {
   "cell_type": "code",
   "execution_count": null,
   "id": "57b6715e",
   "metadata": {
    "id": "57b6715e"
   },
   "outputs": [],
   "source": [
    "g = -6\n",
    "while g > 0:\n",
    "    g -= 1\n",
    "    print(g)"
   ]
  },
  {
   "cell_type": "code",
   "execution_count": null,
   "id": "f0d74016",
   "metadata": {
    "id": "f0d74016",
    "outputId": "f66ba97e-f561-49d1-863f-e5e24f1c3fec"
   },
   "outputs": [
    {
     "name": "stdout",
     "output_type": "stream",
     "text": [
      "0\n"
     ]
    }
   ],
   "source": [
    "g = 6\n",
    "while g > 0:\n",
    "    g -= 1\n",
    "print(g)  #nyoba blok ke kolom utama"
   ]
  },
  {
   "cell_type": "markdown",
   "id": "f8554665",
   "metadata": {
    "id": "f8554665"
   },
   "source": [
    "# Survey Definite Iteration"
   ]
  },
  {
   "cell_type": "markdown",
   "id": "51c95601",
   "metadata": {
    "id": "51c95601"
   },
   "source": [
    "### Numeric Range Loop"
   ]
  },
  {
   "cell_type": "code",
   "execution_count": null,
   "id": "5a6d224c",
   "metadata": {
    "id": "5a6d224c",
    "outputId": "5a6f8cd4-a5cb-4461-8437-6279188b6b4a"
   },
   "outputs": [
    {
     "ename": "SyntaxError",
     "evalue": "invalid syntax (3304079368.py, line 1)",
     "output_type": "error",
     "traceback": [
      "\u001b[0;36m  Cell \u001b[0;32mIn[51], line 1\u001b[0;36m\u001b[0m\n\u001b[0;31m    for i = 1 to 13\u001b[0m\n\u001b[0m          ^\u001b[0m\n\u001b[0;31mSyntaxError\u001b[0m\u001b[0;31m:\u001b[0m invalid syntax\n"
     ]
    }
   ],
   "source": [
    "for i = 1 to 13\n",
    "    <loop body>"
   ]
  },
  {
   "cell_type": "markdown",
   "id": "d9d266cb",
   "metadata": {
    "id": "d9d266cb"
   },
   "source": [
    "### Three-expression loop"
   ]
  },
  {
   "cell_type": "code",
   "execution_count": null,
   "id": "ddf3a908",
   "metadata": {
    "id": "ddf3a908",
    "outputId": "2ee5d523-aa19-4d64-f078-2c0548af9f27"
   },
   "outputs": [
    {
     "ename": "SyntaxError",
     "evalue": "invalid syntax. Maybe you meant '==' or ':=' instead of '='? (2232789328.py, line 1)",
     "output_type": "error",
     "traceback": [
      "\u001b[0;36m  Cell \u001b[0;32mIn[50], line 1\u001b[0;36m\u001b[0m\n\u001b[0;31m    for (i = 1; i <= 13; 1++):\u001b[0m\n\u001b[0m         ^\u001b[0m\n\u001b[0;31mSyntaxError\u001b[0m\u001b[0;31m:\u001b[0m invalid syntax. Maybe you meant '==' or ':=' instead of '='?\n"
     ]
    }
   ],
   "source": [
    "for (i = 1; i <= 13; 1++):\n",
    "    <loop body>"
   ]
  },
  {
   "cell_type": "markdown",
   "id": "9a6d4713",
   "metadata": {
    "id": "9a6d4713"
   },
   "source": [
    "### Nyoba for dari referensi lain"
   ]
  },
  {
   "cell_type": "code",
   "execution_count": null,
   "id": "11017cc3",
   "metadata": {
    "id": "11017cc3",
    "outputId": "08905e7e-98bd-491c-bb8f-04c0c2051ff9"
   },
   "outputs": [
    {
     "name": "stdout",
     "output_type": "stream",
     "text": [
      "1\n",
      "2\n",
      "3\n",
      "4\n",
      "5\n",
      "6\n",
      "7\n",
      "8\n",
      "9\n",
      "10\n",
      "11\n",
      "12\n"
     ]
    }
   ],
   "source": [
    "for i in range (1,13):\n",
    "    print(i)"
   ]
  },
  {
   "cell_type": "markdown",
   "id": "13046c99",
   "metadata": {
    "id": "13046c99"
   },
   "source": [
    "###  Collection-based or iterator-based loop"
   ]
  },
  {
   "cell_type": "code",
   "execution_count": null,
   "id": "323cc587",
   "metadata": {
    "id": "323cc587"
   },
   "outputs": [],
   "source": [
    "for i in <collection>\n",
    "    <loop body>"
   ]
  },
  {
   "cell_type": "markdown",
   "id": "1c99fbe9",
   "metadata": {
    "id": "1c99fbe9"
   },
   "source": [
    "# The Python For Loop"
   ]
  },
  {
   "cell_type": "code",
   "execution_count": 3,
   "id": "927f1ce6",
   "metadata": {
    "id": "927f1ce6"
   },
   "outputs": [
    {
     "name": "stdout",
     "output_type": "stream",
     "text": [
      "adi\n",
      "tya\n",
      "darma\n"
     ]
    }
   ],
   "source": [
    "x = ['adi', 'tya', 'darma']\n",
    "for i in x:\n",
    "    print(i)\n"
   ]
  },
  {
   "cell_type": "code",
   "execution_count": 15,
   "id": "d426a5db",
   "metadata": {},
   "outputs": [
    {
     "name": "stdout",
     "output_type": "stream",
     "text": [
      "adi\n",
      "tya\n",
      "darma\n"
     ]
    }
   ],
   "source": [
    "y = {'adi':1, 'tya':2, 'darma':3} #kenapa kurung biasa dengan kurawal itu berbeda\n",
    "for c in y:\n",
    "    print(c)"
   ]
  },
  {
   "cell_type": "code",
   "execution_count": 14,
   "id": "a08066d6",
   "metadata": {},
   "outputs": [
    {
     "name": "stdout",
     "output_type": "stream",
     "text": [
      "1\n",
      "2\n",
      "3\n"
     ]
    }
   ],
   "source": [
    "for c in y:\n",
    "    print(y[c])"
   ]
  },
  {
   "cell_type": "code",
   "execution_count": 16,
   "id": "b64cc593",
   "metadata": {},
   "outputs": [
    {
     "name": "stdout",
     "output_type": "stream",
     "text": [
      "1\n",
      "2\n",
      "3\n"
     ]
    }
   ],
   "source": [
    "for c in y.values():\n",
    "    print(c)"
   ]
  },
  {
   "cell_type": "code",
   "execution_count": 18,
   "id": "720b53d0",
   "metadata": {},
   "outputs": [
    {
     "name": "stdout",
     "output_type": "stream",
     "text": [
      "adi : 1\n",
      "tya : 2\n",
      "darma : 3\n"
     ]
    }
   ],
   "source": [
    "for c, v in y.items():\n",
    "    print(c, \":\", v)"
   ]
  },
  {
   "cell_type": "markdown",
   "id": "a65bda94",
   "metadata": {},
   "source": [
    "###  Iteration Through Dictionary"
   ]
  },
  {
   "cell_type": "code",
   "execution_count": 19,
   "id": "005b4b8f",
   "metadata": {},
   "outputs": [
    {
     "name": "stdout",
     "output_type": "stream",
     "text": [
      "1\n",
      "2\n",
      "3\n"
     ]
    }
   ],
   "source": [
    "for v in y.values():\n",
    "    print(v)"
   ]
  },
  {
   "cell_type": "markdown",
   "id": "eb5f8fab",
   "metadata": {},
   "source": [
    "### The Range () Function"
   ]
  },
  {
   "cell_type": "code",
   "execution_count": 20,
   "id": "0376f0b3",
   "metadata": {},
   "outputs": [
    {
     "name": "stdout",
     "output_type": "stream",
     "text": [
      "0\n",
      "1\n",
      "2\n",
      "3\n",
      "4\n"
     ]
    }
   ],
   "source": [
    "for d in (0, 1, 2, 3, 4):\n",
    "    print(d)"
   ]
  },
  {
   "cell_type": "code",
   "execution_count": 21,
   "id": "2d1e0390",
   "metadata": {},
   "outputs": [],
   "source": [
    "e = range(10)"
   ]
  },
  {
   "cell_type": "code",
   "execution_count": 22,
   "id": "c7b5b295",
   "metadata": {},
   "outputs": [
    {
     "name": "stdout",
     "output_type": "stream",
     "text": [
      "0\n",
      "1\n",
      "2\n",
      "3\n",
      "4\n",
      "5\n",
      "6\n",
      "7\n",
      "8\n",
      "9\n"
     ]
    }
   ],
   "source": [
    "for f in e:\n",
    "    print(f)"
   ]
  },
  {
   "cell_type": "markdown",
   "id": "2f91c154",
   "metadata": {},
   "source": [
    "## Altering for Loop Behavior"
   ]
  },
  {
   "cell_type": "markdown",
   "id": "3b9423ad",
   "metadata": {},
   "source": [
    "### The Break and Continue Statements"
   ]
  },
  {
   "cell_type": "code",
   "execution_count": 31,
   "id": "60b5f3be",
   "metadata": {},
   "outputs": [
    {
     "name": "stdout",
     "output_type": "stream",
     "text": [
      "adi\n"
     ]
    }
   ],
   "source": [
    "for g in ['adi', 'tya', 'darma', 'dasa']: #outputnya berhenti di yang ada huruf \"t\"\n",
    "    if 't' in g:\n",
    "        break\n",
    "    print(g)"
   ]
  },
  {
   "cell_type": "code",
   "execution_count": 32,
   "id": "0a73ca5f",
   "metadata": {},
   "outputs": [
    {
     "name": "stdout",
     "output_type": "stream",
     "text": [
      "adi\n",
      "darma\n",
      "dasa\n"
     ]
    }
   ],
   "source": [
    "for g in ['adi', 'tya', 'darma', 'dasa']: #outputnya melewati yang ada \"t\"\n",
    "    if 't' in g:\n",
    "        continue\n",
    "    print(g)"
   ]
  },
  {
   "cell_type": "markdown",
   "id": "2ef75eb6",
   "metadata": {},
   "source": [
    "### The Else Clause"
   ]
  },
  {
   "cell_type": "code",
   "execution_count": 35,
   "id": "ab5f6fc1",
   "metadata": {},
   "outputs": [
    {
     "name": "stdout",
     "output_type": "stream",
     "text": [
      "adi\n",
      "tya\n",
      "darma\n",
      "wan\n",
      "done.\n"
     ]
    }
   ],
   "source": [
    "for j in ['adi', 'tya', 'darma', 'wan']:\n",
    "    print(j)\n",
    "else:\n",
    "    print('done.') #execute when loop is end"
   ]
  },
  {
   "cell_type": "code",
   "execution_count": 38,
   "id": "ae2785b3",
   "metadata": {},
   "outputs": [
    {
     "name": "stdout",
     "output_type": "stream",
     "text": [
      "adi\n",
      "tya\n"
     ]
    }
   ],
   "source": [
    "for j in ['adi', 'tya', 'darma', 'wan']:\n",
    "    if j == 'darma':\n",
    "        break\n",
    "    print(j)\n",
    "else:\n",
    "    print('done.') #tidak ddieksekusi karena loopnya tidak sampai akhir"
   ]
  },
  {
   "cell_type": "markdown",
   "id": "4d4523fe",
   "metadata": {},
   "source": [
    "# Contoh Penggunaan "
   ]
  },
  {
   "cell_type": "code",
   "execution_count": null,
   "id": "cb42feb9",
   "metadata": {},
   "outputs": [],
   "source": [
    "temp = input(\"Ketikan temperatur yang akan di konversi (eg: 40F, 122C) :\")\n",
    "degree = int(temp[:-1])\n",
    "i_convertion = temp[-1]\n",
    "\n",
    "if i_convertion == \"C\":\n",
    "    result = int(round((9 * degree) / 5 + 32))\n",
    "elif i_convertion == \"F\":\n",
    "    result = int(round((degree - 32) * 5/9 ))\n",
    "else:\n",
    "    print(\"masukan input yang benar!\")\n",
    "print(\"Temperaturnya adalah \", result, \"derajat\")"
   ]
  },
  {
   "cell_type": "code",
   "execution_count": null,
   "id": "5e9880ad",
   "metadata": {},
   "outputs": [],
   "source": []
  }
 ],
 "metadata": {
  "colab": {
   "provenance": []
  },
  "kernelspec": {
   "display_name": "Python 3 (ipykernel)",
   "language": "python",
   "name": "python3"
  },
  "language_info": {
   "codemirror_mode": {
    "name": "ipython",
    "version": 3
   },
   "file_extension": ".py",
   "mimetype": "text/x-python",
   "name": "python",
   "nbconvert_exporter": "python",
   "pygments_lexer": "ipython3",
   "version": "3.11.4"
  }
 },
 "nbformat": 4,
 "nbformat_minor": 5
}
