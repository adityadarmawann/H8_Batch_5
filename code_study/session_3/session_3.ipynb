{
 "cells": [
  {
   "cell_type": "markdown",
   "id": "2c3b7374",
   "metadata": {},
   "source": [
    "# Defining Function"
   ]
  },
  {
   "cell_type": "code",
   "execution_count": 1,
   "id": "366bbd32",
   "metadata": {},
   "outputs": [],
   "source": [
    "def my_function(p,l):\n",
    "    \"function hitung luas persegi panjang\"\n",
    "    print(p*l)"
   ]
  },
  {
   "cell_type": "code",
   "execution_count": 2,
   "id": "e233c676",
   "metadata": {},
   "outputs": [
    {
     "name": "stdout",
     "output_type": "stream",
     "text": [
      "30\n"
     ]
    }
   ],
   "source": [
    "my_function(5,6)"
   ]
  },
  {
   "cell_type": "code",
   "execution_count": 3,
   "id": "334b5d6d",
   "metadata": {},
   "outputs": [],
   "source": [
    "def printme(str):\n",
    "    \"this prints to string output\"\n",
    "    print(str)\n",
    "    return"
   ]
  },
  {
   "cell_type": "code",
   "execution_count": 4,
   "id": "e8281b93",
   "metadata": {},
   "outputs": [
    {
     "name": "stdout",
     "output_type": "stream",
     "text": [
      "i'm student\n"
     ]
    }
   ],
   "source": [
    "printme(\"i'm student\")"
   ]
  },
  {
   "cell_type": "code",
   "execution_count": 5,
   "id": "5bc04c4b",
   "metadata": {},
   "outputs": [],
   "source": [
    "def printme(str):\n",
    "    print(str)\n",
    "    return"
   ]
  },
  {
   "cell_type": "code",
   "execution_count": 6,
   "id": "fd2b9d2c",
   "metadata": {},
   "outputs": [
    {
     "name": "stdout",
     "output_type": "stream",
     "text": [
      "bababaa\n"
     ]
    }
   ],
   "source": [
    "printme('bababaa')"
   ]
  },
  {
   "cell_type": "markdown",
   "id": "6a21aea9",
   "metadata": {},
   "source": [
    "# Calling Function"
   ]
  },
  {
   "cell_type": "code",
   "execution_count": 8,
   "id": "a2738f85",
   "metadata": {},
   "outputs": [
    {
     "name": "stdout",
     "output_type": "stream",
     "text": [
      "i've been tryng this function\n",
      "is that true for this fuction\n"
     ]
    }
   ],
   "source": [
    "def printme(str):\n",
    "    \"passed string into this function\"\n",
    "    print(str)\n",
    "    return;\n",
    "printme(\"i've been tryng this function\")\n",
    "printme(\"is that true for this fuction\")"
   ]
  },
  {
   "cell_type": "markdown",
   "id": "bf0f810b",
   "metadata": {},
   "source": [
    "# Pass by Reference vs Value"
   ]
  },
  {
   "cell_type": "code",
   "execution_count": 1,
   "id": "6adfee55",
   "metadata": {},
   "outputs": [
    {
     "name": "stdout",
     "output_type": "stream",
     "text": [
      "value dalam fungsi:  [5, 6, 7, [1, 2, 3, 4]]\n",
      "value dalam fungsi:  [5, 6, 7, [1, 2, 3, 4]]\n"
     ]
    }
   ],
   "source": [
    "def change(mylist):\n",
    "    mylist.append([1,2,3,4]);\n",
    "    print('value dalam fungsi: ', mylist)\n",
    "    return\n",
    "\n",
    "mylist = [5,6,7]\n",
    "change(mylist)\n",
    "print('value dalam fungsi: ', mylist)"
   ]
  },
  {
   "cell_type": "code",
   "execution_count": 2,
   "id": "c5115483",
   "metadata": {},
   "outputs": [
    {
     "name": "stdout",
     "output_type": "stream",
     "text": [
      "value dalam fungsi:  [1, 2, 3, 4]\n",
      "value dalam fungsi:  [5, 6, 7]\n"
     ]
    }
   ],
   "source": [
    "def change(mylist):\n",
    "    mylist = [1,2,3,4];\n",
    "    print('value dalam fungsi: ', mylist)\n",
    "    return\n",
    "\n",
    "mylist = [5,6,7];\n",
    "change(mylist);\n",
    "print('value dalam fungsi: ', mylist)"
   ]
  },
  {
   "cell_type": "markdown",
   "id": "80bb6db5",
   "metadata": {},
   "source": [
    "# Function Argument"
   ]
  },
  {
   "cell_type": "code",
   "execution_count": 5,
   "id": "ccf6e29b",
   "metadata": {},
   "outputs": [],
   "source": [
    "def myname( str ):\n",
    "    print(str)\n",
    "    return"
   ]
  },
  {
   "cell_type": "code",
   "execution_count": 6,
   "id": "8630c9d6",
   "metadata": {},
   "outputs": [
    {
     "name": "stdout",
     "output_type": "stream",
     "text": [
      "aditya\n"
     ]
    }
   ],
   "source": [
    "myname(str = \"aditya\")"
   ]
  },
  {
   "cell_type": "code",
   "execution_count": 1,
   "id": "acb68550",
   "metadata": {},
   "outputs": [],
   "source": [
    "def info(name, age):\n",
    "    print(\"Nama: \", name)\n",
    "    print(\"Umur: \", age)\n",
    "    return;"
   ]
  },
  {
   "cell_type": "code",
   "execution_count": 2,
   "id": "ea75095b",
   "metadata": {},
   "outputs": [
    {
     "name": "stdout",
     "output_type": "stream",
     "text": [
      "Nama:  aditya\n",
      "Umur:  20\n"
     ]
    }
   ],
   "source": [
    "info(name = \"aditya\", age = \"20\")"
   ]
  },
  {
   "cell_type": "markdown",
   "id": "a08e9593",
   "metadata": {},
   "source": [
    "### Default Arguments"
   ]
  },
  {
   "cell_type": "code",
   "execution_count": 4,
   "id": "89885b9e",
   "metadata": {},
   "outputs": [],
   "source": [
    "def info(name, age = 25):\n",
    "    print(\"Nama: \", name)\n",
    "    print(\"Umur: \", age)\n",
    "    return;"
   ]
  },
  {
   "cell_type": "code",
   "execution_count": 5,
   "id": "6b6508d3",
   "metadata": {},
   "outputs": [
    {
     "name": "stdout",
     "output_type": "stream",
     "text": [
      "Nama:  aditya\n",
      "Umur:  25\n"
     ]
    }
   ],
   "source": [
    "info(name = \"aditya\")"
   ]
  },
  {
   "cell_type": "code",
   "execution_count": 6,
   "id": "b6a0575e",
   "metadata": {},
   "outputs": [
    {
     "name": "stdout",
     "output_type": "stream",
     "text": [
      "Nama:  arif\n",
      "Umur:  22\n"
     ]
    }
   ],
   "source": [
    "info(name = \"arif\", age = 22)"
   ]
  },
  {
   "cell_type": "markdown",
   "id": "33324b34",
   "metadata": {},
   "source": [
    "### Variable Length Arguments"
   ]
  },
  {
   "cell_type": "code",
   "execution_count": 10,
   "id": "a35ee826",
   "metadata": {},
   "outputs": [
    {
     "name": "stdout",
     "output_type": "stream",
     "text": [
      "outputnya adalah: \n",
      "kelinci\n"
     ]
    }
   ],
   "source": [
    "def hewan(arg1, *vartuple):\n",
    "    print(\"outputnya adalah: \")\n",
    "    print(arg1)\n",
    "    for var in vartuple:\n",
    "        print(var)\n",
    "    return\n",
    "\n",
    "hewan(\"kelinci\")"
   ]
  },
  {
   "cell_type": "markdown",
   "id": "ced98634",
   "metadata": {},
   "source": [
    "# The Anonymous Function"
   ]
  },
  {
   "cell_type": "code",
   "execution_count": 3,
   "id": "5c132353",
   "metadata": {},
   "outputs": [
    {
     "name": "stdout",
     "output_type": "stream",
     "text": [
      "value total:  None\n",
      "value total:  None\n"
     ]
    }
   ],
   "source": [
    "sum = lambda arg1, arg2: arg1 + arg2;   #skip dulu\n",
    "\n",
    "def sum(arg1, arg2):\n",
    "    arg1 + arg2\n",
    "    return\n",
    "    \n",
    "print(\"value total: \", sum(10, 40))\n",
    "print(\"value total: \", sum(15, 55))   #kenpa hasilny none"
   ]
  },
  {
   "cell_type": "markdown",
   "id": "abca340d",
   "metadata": {},
   "source": [
    "# The Return Statement"
   ]
  },
  {
   "cell_type": "code",
   "execution_count": 17,
   "id": "4ff54aa3",
   "metadata": {},
   "outputs": [
    {
     "name": "stdout",
     "output_type": "stream",
     "text": [
      "inside function:  44\n",
      "value total:  59\n"
     ]
    }
   ],
   "source": [
    "def sum(arg1, arg2):\n",
    "    total = arg1 + arg2\n",
    "    total2 = total + arg1\n",
    "    print(\"inside function: \", total)\n",
    "    return total2\n",
    "\n",
    "total = sum(15,29)\n",
    "print(\"value total: \", total)"
   ]
  },
  {
   "cell_type": "markdown",
   "id": "aa5f6318",
   "metadata": {},
   "source": [
    "# Scope of Variables"
   ]
  },
  {
   "cell_type": "code",
   "execution_count": 31,
   "id": "d3c3c020",
   "metadata": {},
   "outputs": [
    {
     "name": "stdout",
     "output_type": "stream",
     "text": [
      "outside fonction gobal total:  5\n"
     ]
    }
   ],
   "source": [
    "total = 5;\n",
    "\n",
    "def sum(arg1, arg2):\n",
    "    \n",
    "    total = arg1, arg2;\n",
    "    print(\"inside function total: \", total)\n",
    "    return total;\n",
    "\n",
    "def min():\n",
    "    \n",
    "    sum(10, 20); #kalo tidak diberi intendent, sintax error\n",
    "print(\"outside fonction gobal total: \", total)    "
   ]
  },
  {
   "cell_type": "code",
   "execution_count": 39,
   "id": "74ed49b0",
   "metadata": {},
   "outputs": [
    {
     "data": {
      "text/plain": [
       "50"
      ]
     },
     "execution_count": 39,
     "metadata": {},
     "output_type": "execute_result"
    }
   ],
   "source": [
    "kucing = 25\n",
    "\n",
    "def hewan():\n",
    "    anjing = 12\n",
    "    return kucing + anjing\n",
    "\n",
    "def kerbau():\n",
    "    return kucing + kucing\n",
    "\n",
    "hewan()\n",
    "kerbau()"
   ]
  },
  {
   "cell_type": "code",
   "execution_count": null,
   "id": "261e389c",
   "metadata": {},
   "outputs": [],
   "source": [
    "s"
   ]
  }
 ],
 "metadata": {
  "kernelspec": {
   "display_name": "Python 3 (ipykernel)",
   "language": "python",
   "name": "python3"
  },
  "language_info": {
   "codemirror_mode": {
    "name": "ipython",
    "version": 3
   },
   "file_extension": ".py",
   "mimetype": "text/x-python",
   "name": "python",
   "nbconvert_exporter": "python",
   "pygments_lexer": "ipython3",
   "version": "3.11.4"
  }
 },
 "nbformat": 4,
 "nbformat_minor": 5
}
