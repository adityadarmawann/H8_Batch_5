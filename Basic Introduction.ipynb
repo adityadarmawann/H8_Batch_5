{
 "cells": [
  {
   "cell_type": "markdown",
   "id": "3f1cd7b0",
   "metadata": {},
   "source": [
    "# Modul 1"
   ]
  },
  {
   "cell_type": "markdown",
   "id": "5c9fea18",
   "metadata": {},
   "source": [
    "Integers"
   ]
  },
  {
   "cell_type": "code",
   "execution_count": 20,
   "id": "308a35e2",
   "metadata": {},
   "outputs": [
    {
     "name": "stdout",
     "output_type": "stream",
     "text": [
      "10\n"
     ]
    }
   ],
   "source": [
    "print(10)"
   ]
  },
  {
   "cell_type": "code",
   "execution_count": 21,
   "id": "ddc0c512",
   "metadata": {},
   "outputs": [
    {
     "name": "stdout",
     "output_type": "stream",
     "text": [
      "<class 'int'>\n"
     ]
    }
   ],
   "source": [
    "print(type(10))"
   ]
  },
  {
   "cell_type": "markdown",
   "id": "ea132793",
   "metadata": {},
   "source": [
    "FLoating-Point"
   ]
  },
  {
   "cell_type": "code",
   "execution_count": 22,
   "id": "89259392",
   "metadata": {},
   "outputs": [
    {
     "name": "stdout",
     "output_type": "stream",
     "text": [
      "9.2\n"
     ]
    }
   ],
   "source": [
    "print(9.2)"
   ]
  },
  {
   "cell_type": "code",
   "execution_count": 23,
   "id": "7c171ffb",
   "metadata": {},
   "outputs": [
    {
     "name": "stdout",
     "output_type": "stream",
     "text": [
      "<class 'float'>\n"
     ]
    }
   ],
   "source": [
    "print(type(9.2))"
   ]
  },
  {
   "cell_type": "code",
   "execution_count": 24,
   "id": "7e626d1f",
   "metadata": {},
   "outputs": [
    {
     "name": "stdout",
     "output_type": "stream",
     "text": [
      "0.8\n"
     ]
    }
   ],
   "source": [
    "print(.8)"
   ]
  },
  {
   "cell_type": "code",
   "execution_count": 25,
   "id": "cfa751e0",
   "metadata": {},
   "outputs": [
    {
     "name": "stdout",
     "output_type": "stream",
     "text": [
      "8.0\n"
     ]
    }
   ],
   "source": [
    "print(8.)"
   ]
  },
  {
   "cell_type": "code",
   "execution_count": 26,
   "id": "060cced6",
   "metadata": {},
   "outputs": [
    {
     "name": "stdout",
     "output_type": "stream",
     "text": [
      "30000.0\n"
     ]
    }
   ],
   "source": [
    "print(.3e5)"
   ]
  },
  {
   "cell_type": "code",
   "execution_count": 27,
   "id": "3675b088",
   "metadata": {},
   "outputs": [
    {
     "name": "stdout",
     "output_type": "stream",
     "text": [
      "250000000.0\n"
     ]
    }
   ],
   "source": [
    "print(2.5e8)"
   ]
  },
  {
   "cell_type": "markdown",
   "id": "b4a821d0",
   "metadata": {},
   "source": [
    "String"
   ]
  },
  {
   "cell_type": "code",
   "execution_count": 28,
   "id": "5da05a3e",
   "metadata": {},
   "outputs": [
    {
     "name": "stdout",
     "output_type": "stream",
     "text": [
      "aditya\n"
     ]
    }
   ],
   "source": [
    "print(\"aditya\")"
   ]
  },
  {
   "cell_type": "code",
   "execution_count": 29,
   "id": "c9af8fe3",
   "metadata": {},
   "outputs": [
    {
     "name": "stdout",
     "output_type": "stream",
     "text": [
      "<class 'str'>\n"
     ]
    }
   ],
   "source": [
    "print(type(\"aditya\"))"
   ]
  },
  {
   "cell_type": "markdown",
   "id": "aa9f2d2b",
   "metadata": {},
   "source": [
    "Boolean"
   ]
  },
  {
   "cell_type": "code",
   "execution_count": 30,
   "id": "36c10169",
   "metadata": {},
   "outputs": [
    {
     "name": "stdout",
     "output_type": "stream",
     "text": [
      "<class 'bool'>\n"
     ]
    }
   ],
   "source": [
    "print(type(True))"
   ]
  },
  {
   "cell_type": "code",
   "execution_count": 31,
   "id": "76a4fbc6",
   "metadata": {},
   "outputs": [
    {
     "name": "stdout",
     "output_type": "stream",
     "text": [
      "<class 'bool'>\n"
     ]
    }
   ],
   "source": [
    "print(type(False))"
   ]
  },
  {
   "cell_type": "markdown",
   "id": "e28e68df",
   "metadata": {},
   "source": [
    "Variable Assignment"
   ]
  },
  {
   "cell_type": "code",
   "execution_count": 32,
   "id": "b58c5ded",
   "metadata": {},
   "outputs": [],
   "source": [
    "n = 15500"
   ]
  },
  {
   "cell_type": "code",
   "execution_count": 33,
   "id": "27e37f52",
   "metadata": {},
   "outputs": [
    {
     "data": {
      "text/plain": [
       "15500"
      ]
     },
     "execution_count": 33,
     "metadata": {},
     "output_type": "execute_result"
    }
   ],
   "source": [
    "n"
   ]
  },
  {
   "cell_type": "code",
   "execution_count": 34,
   "id": "fd3c2325",
   "metadata": {},
   "outputs": [
    {
     "name": "stdout",
     "output_type": "stream",
     "text": [
      "15500\n"
     ]
    }
   ],
   "source": [
    "print(n)"
   ]
  },
  {
   "cell_type": "code",
   "execution_count": 35,
   "id": "a9452ad2",
   "metadata": {},
   "outputs": [],
   "source": [
    "x=y=z=450"
   ]
  },
  {
   "cell_type": "code",
   "execution_count": 36,
   "id": "f4979031",
   "metadata": {},
   "outputs": [
    {
     "data": {
      "text/plain": [
       "450"
      ]
     },
     "execution_count": 36,
     "metadata": {},
     "output_type": "execute_result"
    }
   ],
   "source": [
    "x"
   ]
  },
  {
   "cell_type": "code",
   "execution_count": 37,
   "id": "449ddbf8",
   "metadata": {},
   "outputs": [
    {
     "data": {
      "text/plain": [
       "450"
      ]
     },
     "execution_count": 37,
     "metadata": {},
     "output_type": "execute_result"
    }
   ],
   "source": [
    "y"
   ]
  },
  {
   "cell_type": "code",
   "execution_count": 38,
   "id": "1d5371ca",
   "metadata": {},
   "outputs": [
    {
     "data": {
      "text/plain": [
       "450"
      ]
     },
     "execution_count": 38,
     "metadata": {},
     "output_type": "execute_result"
    }
   ],
   "source": [
    "z"
   ]
  },
  {
   "cell_type": "code",
   "execution_count": 39,
   "id": "1eb25fcd",
   "metadata": {},
   "outputs": [
    {
     "name": "stdout",
     "output_type": "stream",
     "text": [
      "450 450 450\n"
     ]
    }
   ],
   "source": [
    "print(x,y,z)"
   ]
  },
  {
   "cell_type": "markdown",
   "id": "94376b75",
   "metadata": {},
   "source": [
    "Variables Types"
   ]
  },
  {
   "cell_type": "code",
   "execution_count": 40,
   "id": "6e84365e",
   "metadata": {},
   "outputs": [
    {
     "name": "stdout",
     "output_type": "stream",
     "text": [
      "8.7\n",
      "Namaku Aditya\n"
     ]
    }
   ],
   "source": [
    "var = 8.7\n",
    "print (var)\n",
    "\n",
    "var = \"Namaku Aditya\"\n",
    "print(var)"
   ]
  },
  {
   "cell_type": "code",
   "execution_count": 41,
   "id": "506c5898",
   "metadata": {},
   "outputs": [
    {
     "data": {
      "text/plain": [
       "23.5"
      ]
     },
     "execution_count": 41,
     "metadata": {},
     "output_type": "execute_result"
    }
   ],
   "source": [
    "23.5"
   ]
  },
  {
   "cell_type": "code",
   "execution_count": 42,
   "id": "021559fe",
   "metadata": {},
   "outputs": [
    {
     "name": "stdout",
     "output_type": "stream",
     "text": [
      "<class 'str'>\n"
     ]
    }
   ],
   "source": [
    "print(type(var))"
   ]
  },
  {
   "cell_type": "markdown",
   "id": "74e5f73a",
   "metadata": {},
   "source": [
    "Variable Name"
   ]
  },
  {
   "cell_type": "code",
   "execution_count": 43,
   "id": "02b0b1f6",
   "metadata": {},
   "outputs": [
    {
     "name": "stdout",
     "output_type": "stream",
     "text": [
      "Darma 20 Dell\n"
     ]
    }
   ],
   "source": [
    "Name = \"Darma\"\n",
    "Age = 20\n",
    "laptop = \"Dell\"\n",
    "print(Name, Age, laptop)"
   ]
  },
  {
   "cell_type": "markdown",
   "id": "2ce90618",
   "metadata": {},
   "source": [
    "Operator and Expression"
   ]
  },
  {
   "cell_type": "code",
   "execution_count": 46,
   "id": "cc586ba5",
   "metadata": {},
   "outputs": [
    {
     "data": {
      "text/plain": [
       "0"
      ]
     },
     "execution_count": 46,
     "metadata": {},
     "output_type": "execute_result"
    }
   ],
   "source": [
    "a = 5\n",
    "b = 6\n",
    "b - a - 1"
   ]
  },
  {
   "cell_type": "markdown",
   "id": "92ba4efe",
   "metadata": {},
   "source": [
    "Arithmetic Operators"
   ]
  },
  {
   "cell_type": "code",
   "execution_count": null,
   "id": "4de2928e",
   "metadata": {},
   "outputs": [],
   "source": [
    "a = 7\n",
    "b = 9\n",
    "\n",
    "print (a+b)\n",
    "print (a-b)\n",
    "print (a*b)\n",
    "print (a/b)\n",
    "print (a%b)\n",
    "print (a**b)"
   ]
  },
  {
   "cell_type": "markdown",
   "id": "5596900b",
   "metadata": {},
   "source": [
    "Comparrison Operator"
   ]
  },
  {
   "cell_type": "code",
   "execution_count": 51,
   "id": "b89e2c56",
   "metadata": {},
   "outputs": [
    {
     "name": "stdout",
     "output_type": "stream",
     "text": [
      "False\n",
      "False\n",
      "True\n"
     ]
    }
   ],
   "source": [
    "a=12\n",
    "b=10\n",
    "print (a==b)\n",
    "print (a<=b)\n",
    "print (a>=b)"
   ]
  },
  {
   "cell_type": "markdown",
   "id": "05e7ddee",
   "metadata": {},
   "source": [
    "String Manipulation "
   ]
  },
  {
   "cell_type": "code",
   "execution_count": 57,
   "id": "34e6ba04",
   "metadata": {},
   "outputs": [
    {
     "name": "stdout",
     "output_type": "stream",
     "text": [
      "kabita\n"
     ]
    }
   ],
   "source": [
    "a = 'ka'\n",
    "b = 'bi'\n",
    "t = 'ta'\n",
    "print (a+b+t)"
   ]
  },
  {
   "cell_type": "code",
   "execution_count": 58,
   "id": "ada00f1d",
   "metadata": {},
   "outputs": [
    {
     "data": {
      "text/plain": [
       "'kaaakaaakaaakaaakaaa'"
      ]
     },
     "execution_count": 58,
     "metadata": {},
     "output_type": "execute_result"
    }
   ],
   "source": [
    "a = \"kaaa\"\n",
    "a * 5"
   ]
  },
  {
   "cell_type": "code",
   "execution_count": 1,
   "id": "b62c9aed",
   "metadata": {},
   "outputs": [
    {
     "name": "stdout",
     "output_type": "stream",
     "text": [
      "True\n",
      "False\n"
     ]
    }
   ],
   "source": [
    "s = 'kaa'\n",
    "print (s in \"bakaa naruto ozomaki\")\n",
    "print (s in \"naruto ozomaku\")"
   ]
  },
  {
   "cell_type": "code",
   "execution_count": 5,
   "id": "3cbae850",
   "metadata": {},
   "outputs": [
    {
     "data": {
      "text/plain": [
       "True"
      ]
     },
     "execution_count": 5,
     "metadata": {},
     "output_type": "execute_result"
    }
   ],
   "source": [
    "a = [\"baku\", 'baka', 'beke']\n",
    "b = [\"baku\", 'baka', 'beke']\n",
    "a == b"
   ]
  },
  {
   "cell_type": "markdown",
   "id": "233011a4",
   "metadata": {},
   "source": [
    "List for Arbitary Objects"
   ]
  },
  {
   "cell_type": "code",
   "execution_count": 3,
   "id": "d07059c1",
   "metadata": {},
   "outputs": [
    {
     "name": "stdout",
     "output_type": "stream",
     "text": [
      "[12, 2.2, 'booki']\n"
     ]
    }
   ],
   "source": [
    "x = [12, 2.2, 'booki']\n",
    "print (x)"
   ]
  },
  {
   "cell_type": "markdown",
   "id": "ef6be6aa",
   "metadata": {},
   "source": [
    "Accesed Elemen by Index"
   ]
  },
  {
   "cell_type": "code",
   "execution_count": 6,
   "id": "3b81132c",
   "metadata": {},
   "outputs": [
    {
     "name": "stdout",
     "output_type": "stream",
     "text": [
      "baka\n"
     ]
    }
   ],
   "source": [
    "print (a[1])"
   ]
  },
  {
   "cell_type": "code",
   "execution_count": 7,
   "id": "3a1d83bd",
   "metadata": {},
   "outputs": [
    {
     "name": "stdout",
     "output_type": "stream",
     "text": [
      "baka\n"
     ]
    }
   ],
   "source": [
    "print (a[-2])"
   ]
  },
  {
   "cell_type": "markdown",
   "id": "a067c9b6",
   "metadata": {},
   "source": [
    "# Python Tuples"
   ]
  },
  {
   "cell_type": "code",
   "execution_count": 1,
   "id": "e4b34a54",
   "metadata": {},
   "outputs": [
    {
     "data": {
      "text/plain": [
       "'too'"
      ]
     },
     "execution_count": 1,
     "metadata": {},
     "output_type": "execute_result"
    }
   ],
   "source": [
    "(s1, s2, s3) = ('taa', 'too', 'tuu')\n",
    "s2"
   ]
  },
  {
   "cell_type": "markdown",
   "id": "715bcfb8",
   "metadata": {},
   "source": [
    "# Python Dictionary"
   ]
  },
  {
   "cell_type": "markdown",
   "id": "eacfd81d",
   "metadata": {},
   "source": [
    "Defining Dictionary"
   ]
  },
  {
   "cell_type": "code",
   "execution_count": 2,
   "id": "c16381b5",
   "metadata": {},
   "outputs": [],
   "source": [
    "hewan = {\n",
    "    'belang' : 'zebra',\n",
    "    'oyen' : 'kucing',\n",
    "    'racun' : 'ular'    \n",
    "}"
   ]
  },
  {
   "cell_type": "code",
   "execution_count": 3,
   "id": "575d3f20",
   "metadata": {},
   "outputs": [
    {
     "name": "stdout",
     "output_type": "stream",
     "text": [
      "kucing\n"
     ]
    }
   ],
   "source": [
    "print(hewan['oyen'])"
   ]
  },
  {
   "cell_type": "code",
   "execution_count": 4,
   "id": "0ccac601",
   "metadata": {},
   "outputs": [
    {
     "data": {
      "text/plain": [
       "{'belang': 'zebra', 'oyen': 'kucing', 'racun': 'ular', 'tinggi': 'jerapah'}"
      ]
     },
     "execution_count": 4,
     "metadata": {},
     "output_type": "execute_result"
    }
   ],
   "source": [
    "#adding entry\n",
    "\n",
    "hewan['tinggi'] = 'jerapah'\n",
    "hewan"
   ]
  },
  {
   "cell_type": "code",
   "execution_count": 8,
   "id": "72c616b9",
   "metadata": {},
   "outputs": [
    {
     "data": {
      "text/plain": [
       "{'belang': 'zebra', 'oyen': 'kucing', 'tinggi': 'jerapah', 'racun': 'naga'}"
      ]
     },
     "execution_count": 8,
     "metadata": {},
     "output_type": "execute_result"
    }
   ],
   "source": [
    "#update entry\n",
    "\n",
    "hewan['racun'] = 'naga'\n",
    "hewan"
   ]
  },
  {
   "cell_type": "code",
   "execution_count": 9,
   "id": "0e971b45",
   "metadata": {},
   "outputs": [
    {
     "data": {
      "text/plain": [
       "{'belang': 'zebra', 'oyen': 'kucing', 'tinggi': 'jerapah'}"
      ]
     },
     "execution_count": 9,
     "metadata": {},
     "output_type": "execute_result"
    }
   ],
   "source": [
    "#delete entry \n",
    "\n",
    "del hewan['racun']\n",
    "hewan\n"
   ]
  },
  {
   "cell_type": "markdown",
   "id": "d8f533ae",
   "metadata": {},
   "source": [
    "# Increment DIctionary"
   ]
  },
  {
   "cell_type": "code",
   "execution_count": 11,
   "id": "9ec07c6a",
   "metadata": {},
   "outputs": [],
   "source": [
    "mainan = {}\n",
    "type(mainan)\n",
    "\n",
    "mainan['ban4'] = 'mobil'\n",
    "mainan['panjang'] = 'snack'\n",
    "mainan['usia'] = 10\n",
    "mainan ['anak'] = ['barbie', 'mbem', 'motoy']\n",
    "mainan['hutan'] = {'pohon', 'singa', 'rimba'}"
   ]
  },
  {
   "cell_type": "code",
   "execution_count": 12,
   "id": "77e1d9bb",
   "metadata": {},
   "outputs": [
    {
     "data": {
      "text/plain": [
       "{'ban4': 'mobil',\n",
       " 'panjang': 'snack',\n",
       " 'usia': 10,\n",
       " 'anak': ['barbie', 'mbem', 'motoy'],\n",
       " 'hutan': {'pohon', 'rimba', 'singa'}}"
      ]
     },
     "execution_count": 12,
     "metadata": {},
     "output_type": "execute_result"
    }
   ],
   "source": [
    "mainan"
   ]
  },
  {
   "cell_type": "code",
   "execution_count": 13,
   "id": "9791ad4c",
   "metadata": {},
   "outputs": [
    {
     "name": "stdout",
     "output_type": "stream",
     "text": [
      "{'singa', 'pohon', 'rimba'}\n"
     ]
    }
   ],
   "source": [
    "print(mainan['hutan'])"
   ]
  },
  {
   "cell_type": "code",
   "execution_count": 15,
   "id": "e3806b9c",
   "metadata": {},
   "outputs": [
    {
     "name": "stdout",
     "output_type": "stream",
     "text": [
      "dict_items([('ban4', 'mobil'), ('panjang', 'snack'), ('usia', 10), ('anak', ['barbie', 'mbem', 'motoy']), ('hutan', {'singa', 'pohon', 'rimba'})])\n"
     ]
    }
   ],
   "source": [
    "print(mainan.items())"
   ]
  },
  {
   "cell_type": "code",
   "execution_count": 16,
   "id": "f41f48f0",
   "metadata": {},
   "outputs": [
    {
     "name": "stdout",
     "output_type": "stream",
     "text": [
      "dict_keys(['ban4', 'panjang', 'usia', 'anak', 'hutan'])\n"
     ]
    }
   ],
   "source": [
    "print(mainan.keys())"
   ]
  },
  {
   "cell_type": "code",
   "execution_count": 17,
   "id": "958b63fd",
   "metadata": {},
   "outputs": [
    {
     "name": "stdout",
     "output_type": "stream",
     "text": [
      "dict_values(['mobil', 'snack', 10, ['barbie', 'mbem', 'motoy'], {'singa', 'pohon', 'rimba'}])\n"
     ]
    }
   ],
   "source": [
    "print(mainan.values())"
   ]
  },
  {
   "cell_type": "markdown",
   "id": "b71b0d79",
   "metadata": {},
   "source": [
    "# Line Continuation"
   ]
  },
  {
   "cell_type": "code",
   "execution_count": 19,
   "id": "139ac55c",
   "metadata": {},
   "outputs": [
    {
     "data": {
      "text/plain": [
       "True"
      ]
     },
     "execution_count": 19,
     "metadata": {},
     "output_type": "execute_result"
    }
   ],
   "source": [
    "a_val = 97\n",
    "b_val = 95\n",
    "c_val = 90\n",
    "\n",
    "someone_get_value = (a_val >= 90 and a_val <= 95) or (b_val >= 90 and b_val <=90) or (c_val >= 90 and c_val <=90)\n",
    "\n",
    "someone_get_value"
   ]
  },
  {
   "cell_type": "markdown",
   "id": "f16f242c",
   "metadata": {},
   "source": [
    "# DAAH, SEMOGA PAHAM DAN INGAT ^^"
   ]
  }
 ],
 "metadata": {
  "kernelspec": {
   "display_name": "Python 3 (ipykernel)",
   "language": "python",
   "name": "python3"
  },
  "language_info": {
   "codemirror_mode": {
    "name": "ipython",
    "version": 3
   },
   "file_extension": ".py",
   "mimetype": "text/x-python",
   "name": "python",
   "nbconvert_exporter": "python",
   "pygments_lexer": "ipython3",
   "version": "3.11.4"
  }
 },
 "nbformat": 4,
 "nbformat_minor": 5
}
